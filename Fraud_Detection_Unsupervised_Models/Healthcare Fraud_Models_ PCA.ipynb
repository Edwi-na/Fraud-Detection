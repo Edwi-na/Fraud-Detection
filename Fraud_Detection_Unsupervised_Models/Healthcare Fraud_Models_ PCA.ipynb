{
 "cells": [
  {
   "cell_type": "markdown",
   "metadata": {},
   "source": [
    "# Healthcare Fraud --- II Models "
   ]
  },
  {
   "cell_type": "markdown",
   "metadata": {},
   "source": [
    "# Objectives\n",
    "This notebook will conduct an analysis of the Fraud, Waste, and Abuse of Medical resources. I will focus on detecting any hospital that may abuse the resources compared to its peers of the same features, location, or each diagnosis group.\n",
    "\n",
    "# Dataset\n",
    "The dataset is from the Medicare Inpatient Hospitals by Geography and service that provides information on hospital discharges. Please see more information in \"Healthcare Fraud --- I EDA&Feature Engineering\".\n",
    "\n",
    "# Models\n",
    "I will perform various techniques to identify fraud in the healthcare industry and follow modeling procedures for the model development, assessment, and interpretation of the results. \n",
    "* Model development\n",
    "* Threshold determination\n",
    "* Descriptive statistics of the normal and abnormal groups\n",
    "\n",
    "Python Outlier Detection (PyOD) module includes many supervised and unsupervised algorithms to detect anomalies. I will apply the Principal Component Analysis (PCA) in this notebook."
   ]
  },
  {
   "cell_type": "markdown",
   "metadata": {
    "toc": true
   },
   "source": [
    "<h1>Table of Contents<span class=\"tocSkip\"></span></h1>\n",
    "<div class=\"toc\"><ul class=\"toc-item\"><li><span><a href=\"#Data-Preparation-\" data-toc-modified-id=\"Data-Preparation--1\"><span class=\"toc-item-num\">1&nbsp;&nbsp;</span>Data Preparation <a class=\"anchor\" id=\"Section_1\" rel=\"nofollow\"></a></a></span></li><li><span><a href=\"#Feature-Selection\" data-toc-modified-id=\"Feature-Selection-2\"><span class=\"toc-item-num\">2&nbsp;&nbsp;</span>Feature Selection</a></span></li><li><span><a href=\"#Models---PCA-in-the-PyOD-module\" data-toc-modified-id=\"Models---PCA-in-the-PyOD-module-3\"><span class=\"toc-item-num\">3&nbsp;&nbsp;</span>Models - PCA in the PyOD module</a></span><ul class=\"toc-item\"><li><span><a href=\"#Overview\" data-toc-modified-id=\"Overview-3.1\"><span class=\"toc-item-num\">3.1&nbsp;&nbsp;</span>Overview</a></span></li><li><span><a href=\"#Modeling\" data-toc-modified-id=\"Modeling-3.2\"><span class=\"toc-item-num\">3.2&nbsp;&nbsp;</span>Modeling</a></span><ul class=\"toc-item\"><li><span><a href=\"#Model-development\" data-toc-modified-id=\"Model-development-3.2.1\"><span class=\"toc-item-num\">3.2.1&nbsp;&nbsp;</span>Model development</a></span></li><li><span><a href=\"#Threshold-determination\" data-toc-modified-id=\"Threshold-determination-3.2.2\"><span class=\"toc-item-num\">3.2.2&nbsp;&nbsp;</span>Threshold determination</a></span></li><li><span><a href=\"#Descriptive-statistics-of-the-normal-and-abnormal-groups\" data-toc-modified-id=\"Descriptive-statistics-of-the-normal-and-abnormal-groups-3.2.3\"><span class=\"toc-item-num\">3.2.3&nbsp;&nbsp;</span>Descriptive statistics of the normal and abnormal groups</a></span></li><li><span><a href=\"#Outliers-Identified-by-Multiple-Models\" data-toc-modified-id=\"Outliers-Identified-by-Multiple-Models-3.2.4\"><span class=\"toc-item-num\">3.2.4&nbsp;&nbsp;</span>Outliers Identified by Multiple Models</a></span></li></ul></li></ul></li></ul></div>"
   ]
  },
  {
   "cell_type": "code",
   "execution_count": 99,
   "metadata": {},
   "outputs": [],
   "source": [
    "#from IPython.core.interactiveshell import InteractiveShell\n",
    "#InteractiveShell.ast_node_interactivity = \"all\"\n",
    "\n",
    "#pd.options.display.float_forma\n",
    "t = '{:.2f}'.format"
   ]
  },
  {
   "cell_type": "markdown",
   "metadata": {},
   "source": [
    "## Data Preparation <a class=\"anchor\" id=\"Section_1\"></a>\n",
    "Dataset is prepared from last module. "
   ]
  },
  {
   "cell_type": "code",
   "execution_count": 100,
   "metadata": {},
   "outputs": [],
   "source": [
    "import pandas as pd\n",
    "import numpy as np\n",
    "import matplotlib.pyplot as plt\n",
    "import seaborn as sns\n",
    "import plotly.express as px\n",
    "%matplotlib inline\n",
    "from pyod.models.hbos import HBOS"
   ]
  },
  {
   "cell_type": "code",
   "execution_count": 101,
   "metadata": {},
   "outputs": [],
   "source": [
    "#Loading Data\n",
    "path = '/Users/Edwina/Desktop/2022fall/5420/week6'\n",
    "df = pd.read_csv(path + '/data_healthcare.csv')"
   ]
  },
  {
   "cell_type": "code",
   "execution_count": 102,
   "metadata": {},
   "outputs": [
    {
     "name": "stdout",
     "output_type": "stream",
     "text": [
      "<class 'pandas.core.frame.DataFrame'>\n",
      "RangeIndex: 163065 entries, 0 to 163064\n",
      "Data columns (total 42 columns):\n",
      " #   Column                            Non-Null Count   Dtype  \n",
      "---  ------                            --------------   -----  \n",
      " 0   Unnamed: 0                        163065 non-null  int64  \n",
      " 1   DRG                               163065 non-null  object \n",
      " 2   Provider_Id                       163065 non-null  int64  \n",
      " 3   Provider_Name                     163065 non-null  object \n",
      " 4   Provider_StreetAddress            163065 non-null  object \n",
      " 5   Provider_City                     163065 non-null  object \n",
      " 6   Provider_State                    163065 non-null  object \n",
      " 7   Provider_Zipcode                  163065 non-null  int64  \n",
      " 8   Hospital_referral_region_desp     163065 non-null  object \n",
      " 9   Total_Discharges                  163065 non-null  int64  \n",
      " 10  Average_Total_Payments            163065 non-null  float64\n",
      " 11  Average_Medicare_Payment          163065 non-null  float64\n",
      " 12  AvgPayment_By_DRG                 163065 non-null  float64\n",
      " 13  ratio_TP_DRG                      163065 non-null  float64\n",
      " 14  ratio_TP_DRG_bin                  163065 non-null  object \n",
      " 15  AvgPayment_By_State_DRG           163065 non-null  float64\n",
      " 16  ratio_TP_State_DRG                163065 non-null  float64\n",
      " 17  ratio_TP_State_DRG_bin            163065 non-null  object \n",
      " 18  AvgPayment_By_Region_DRG          163065 non-null  float64\n",
      " 19  ratio_TP_Region_DRG               163065 non-null  float64\n",
      " 20  ratio_TP_Region_DRG_bin           163065 non-null  object \n",
      " 21  AvgDischarges_By_DRG              163065 non-null  float64\n",
      " 22  ratio_D_DRG                       163065 non-null  float64\n",
      " 23  ratio_D_DRG_bin                   163065 non-null  object \n",
      " 24  AvgDischarges_By_States_DRG       163065 non-null  float64\n",
      " 25  ratio_D_States_DRG                163065 non-null  float64\n",
      " 26  ratio_D_States_DRG_bin            163065 non-null  object \n",
      " 27  AvgDischarges_By_Region_DRG       163065 non-null  float64\n",
      " 28  ratio_D_Region_DRG                163065 non-null  float64\n",
      " 29  ratio_D_Region_DRG_bin            163065 non-null  object \n",
      " 30  AvgMedicarePayment_By_DRG         163065 non-null  float64\n",
      " 31  ratio_MP_DRG                      163065 non-null  float64\n",
      " 32  ratio_MP_DRG_bin                  163065 non-null  object \n",
      " 33  AvgMedicarePayment_By_State_DRG   163065 non-null  float64\n",
      " 34  ratio_MP_State_DRG                163065 non-null  float64\n",
      " 35  ratio_MP_State_DRG_bin            163065 non-null  object \n",
      " 36  AvgMedicarePayment_By_Region_DRG  163065 non-null  float64\n",
      " 37  ratio_MP_Region_DRG               163065 non-null  float64\n",
      " 38  ratio_MP_Region_DRG_bin           163065 non-null  object \n",
      " 39  MTotalPayment_By_City             163065 non-null  float64\n",
      " 40  ratio_MTP_City_DRG                163065 non-null  float64\n",
      " 41  ratio_MTP_City_DRG_bin            163065 non-null  object \n",
      "dtypes: float64(22), int64(4), object(16)\n",
      "memory usage: 52.3+ MB\n"
     ]
    }
   ],
   "source": [
    "#df.describe()\n",
    "#df.head()\n",
    "df.info()"
   ]
  },
  {
   "cell_type": "code",
   "execution_count": 103,
   "metadata": {},
   "outputs": [
    {
     "data": {
      "text/html": [
       "<div>\n",
       "<style scoped>\n",
       "    .dataframe tbody tr th:only-of-type {\n",
       "        vertical-align: middle;\n",
       "    }\n",
       "\n",
       "    .dataframe tbody tr th {\n",
       "        vertical-align: top;\n",
       "    }\n",
       "\n",
       "    .dataframe thead th {\n",
       "        text-align: right;\n",
       "    }\n",
       "</style>\n",
       "<table border=\"1\" class=\"dataframe\">\n",
       "  <thead>\n",
       "    <tr style=\"text-align: right;\">\n",
       "      <th></th>\n",
       "      <th>Unnamed: 0</th>\n",
       "      <th>DRG</th>\n",
       "      <th>Provider_Id</th>\n",
       "      <th>Provider_Name</th>\n",
       "      <th>Provider_StreetAddress</th>\n",
       "      <th>Provider_City</th>\n",
       "      <th>Provider_State</th>\n",
       "      <th>Provider_Zipcode</th>\n",
       "      <th>Hospital_referral_region_desp</th>\n",
       "      <th>Total_Discharges</th>\n",
       "      <th>...</th>\n",
       "      <th>ratio_MP_DRG_bin</th>\n",
       "      <th>AvgMedicarePayment_By_State_DRG</th>\n",
       "      <th>ratio_MP_State_DRG</th>\n",
       "      <th>ratio_MP_State_DRG_bin</th>\n",
       "      <th>AvgMedicarePayment_By_Region_DRG</th>\n",
       "      <th>ratio_MP_Region_DRG</th>\n",
       "      <th>ratio_MP_Region_DRG_bin</th>\n",
       "      <th>MTotalPayment_By_City</th>\n",
       "      <th>ratio_MTP_City_DRG</th>\n",
       "      <th>ratio_MTP_City_DRG_bin</th>\n",
       "    </tr>\n",
       "  </thead>\n",
       "  <tbody>\n",
       "    <tr>\n",
       "      <th>0</th>\n",
       "      <td>0</td>\n",
       "      <td>039 - EXTRACRANIAL PROCEDURES W/O CC/MCC</td>\n",
       "      <td>10001</td>\n",
       "      <td>SOUTHEAST ALABAMA MEDICAL CENTER</td>\n",
       "      <td>1108 ROSS CLARK CIRCLE</td>\n",
       "      <td>DOTHAN</td>\n",
       "      <td>AL</td>\n",
       "      <td>36301</td>\n",
       "      <td>AL - Dothan</td>\n",
       "      <td>91</td>\n",
       "      <td>...</td>\n",
       "      <td>(0.802, 0.917]</td>\n",
       "      <td>4585.965000</td>\n",
       "      <td>1.038763</td>\n",
       "      <td>(0.977, 1.093]</td>\n",
       "      <td>4585.965000</td>\n",
       "      <td>1.038763</td>\n",
       "      <td>(0.977, 1.093]</td>\n",
       "      <td>8316.949825</td>\n",
       "      <td>0.694634</td>\n",
       "      <td>(0.534, 0.774]</td>\n",
       "    </tr>\n",
       "    <tr>\n",
       "      <th>1</th>\n",
       "      <td>1</td>\n",
       "      <td>039 - EXTRACRANIAL PROCEDURES W/O CC/MCC</td>\n",
       "      <td>10005</td>\n",
       "      <td>MARSHALL MEDICAL CENTER SOUTH</td>\n",
       "      <td>2505 U S HIGHWAY 431 NORTH</td>\n",
       "      <td>BOAZ</td>\n",
       "      <td>AL</td>\n",
       "      <td>35957</td>\n",
       "      <td>AL - Birmingham</td>\n",
       "      <td>14</td>\n",
       "      <td>...</td>\n",
       "      <td>(0.802, 0.917]</td>\n",
       "      <td>4604.024615</td>\n",
       "      <td>1.080948</td>\n",
       "      <td>(0.977, 1.093]</td>\n",
       "      <td>4604.024615</td>\n",
       "      <td>1.080948</td>\n",
       "      <td>(0.977, 1.093]</td>\n",
       "      <td>6812.131224</td>\n",
       "      <td>0.849598</td>\n",
       "      <td>(0.774, 1.305]</td>\n",
       "    </tr>\n",
       "    <tr>\n",
       "      <th>2</th>\n",
       "      <td>2</td>\n",
       "      <td>039 - EXTRACRANIAL PROCEDURES W/O CC/MCC</td>\n",
       "      <td>10006</td>\n",
       "      <td>ELIZA COFFEE MEMORIAL HOSPITAL</td>\n",
       "      <td>205 MARENGO STREET</td>\n",
       "      <td>FLORENCE</td>\n",
       "      <td>AL</td>\n",
       "      <td>35631</td>\n",
       "      <td>AL - Birmingham</td>\n",
       "      <td>24</td>\n",
       "      <td>...</td>\n",
       "      <td>(0.723, 0.802]</td>\n",
       "      <td>4604.024615</td>\n",
       "      <td>0.967369</td>\n",
       "      <td>(0.873, 0.977]</td>\n",
       "      <td>4604.024615</td>\n",
       "      <td>0.967369</td>\n",
       "      <td>(0.873, 0.977]</td>\n",
       "      <td>8881.752832</td>\n",
       "      <td>0.611923</td>\n",
       "      <td>(0.534, 0.774]</td>\n",
       "    </tr>\n",
       "  </tbody>\n",
       "</table>\n",
       "<p>3 rows × 42 columns</p>\n",
       "</div>"
      ],
      "text/plain": [
       "   Unnamed: 0                                       DRG  Provider_Id  \\\n",
       "0           0  039 - EXTRACRANIAL PROCEDURES W/O CC/MCC        10001   \n",
       "1           1  039 - EXTRACRANIAL PROCEDURES W/O CC/MCC        10005   \n",
       "2           2  039 - EXTRACRANIAL PROCEDURES W/O CC/MCC        10006   \n",
       "\n",
       "                      Provider_Name      Provider_StreetAddress Provider_City  \\\n",
       "0  SOUTHEAST ALABAMA MEDICAL CENTER      1108 ROSS CLARK CIRCLE        DOTHAN   \n",
       "1     MARSHALL MEDICAL CENTER SOUTH  2505 U S HIGHWAY 431 NORTH          BOAZ   \n",
       "2    ELIZA COFFEE MEMORIAL HOSPITAL          205 MARENGO STREET      FLORENCE   \n",
       "\n",
       "  Provider_State  Provider_Zipcode Hospital_referral_region_desp  \\\n",
       "0             AL             36301                   AL - Dothan   \n",
       "1             AL             35957               AL - Birmingham   \n",
       "2             AL             35631               AL - Birmingham   \n",
       "\n",
       "   Total_Discharges  ...  ratio_MP_DRG_bin  AvgMedicarePayment_By_State_DRG  \\\n",
       "0                91  ...    (0.802, 0.917]                      4585.965000   \n",
       "1                14  ...    (0.802, 0.917]                      4604.024615   \n",
       "2                24  ...    (0.723, 0.802]                      4604.024615   \n",
       "\n",
       "   ratio_MP_State_DRG  ratio_MP_State_DRG_bin  \\\n",
       "0            1.038763          (0.977, 1.093]   \n",
       "1            1.080948          (0.977, 1.093]   \n",
       "2            0.967369          (0.873, 0.977]   \n",
       "\n",
       "  AvgMedicarePayment_By_Region_DRG  ratio_MP_Region_DRG  \\\n",
       "0                      4585.965000             1.038763   \n",
       "1                      4604.024615             1.080948   \n",
       "2                      4604.024615             0.967369   \n",
       "\n",
       "   ratio_MP_Region_DRG_bin MTotalPayment_By_City  ratio_MTP_City_DRG  \\\n",
       "0           (0.977, 1.093]           8316.949825            0.694634   \n",
       "1           (0.977, 1.093]           6812.131224            0.849598   \n",
       "2           (0.873, 0.977]           8881.752832            0.611923   \n",
       "\n",
       "   ratio_MTP_City_DRG_bin  \n",
       "0          (0.534, 0.774]  \n",
       "1          (0.774, 1.305]  \n",
       "2          (0.534, 0.774]  \n",
       "\n",
       "[3 rows x 42 columns]"
      ]
     },
     "execution_count": 103,
     "metadata": {},
     "output_type": "execute_result"
    }
   ],
   "source": [
    "df.head(3)"
   ]
  },
  {
   "cell_type": "markdown",
   "metadata": {},
   "source": [
    "## Feature Selection"
   ]
  },
  {
   "cell_type": "code",
   "execution_count": 104,
   "metadata": {},
   "outputs": [
    {
     "data": {
      "text/plain": [
       "(163065, 25)"
      ]
     },
     "execution_count": 104,
     "metadata": {},
     "output_type": "execute_result"
    }
   ],
   "source": [
    "numerics = ['int16', 'int32', 'int64', 'float16', 'float32', 'float64']\n",
    "newdf = df.select_dtypes(include=numerics)\n",
    "#newdf.drop('Provider_Zipcode')\n",
    "newdf = newdf.drop('Provider_Zipcode', axis=1)\n",
    "newdf.shape"
   ]
  },
  {
   "cell_type": "code",
   "execution_count": 105,
   "metadata": {},
   "outputs": [
    {
     "data": {
      "text/html": [
       "<div>\n",
       "<style scoped>\n",
       "    .dataframe tbody tr th:only-of-type {\n",
       "        vertical-align: middle;\n",
       "    }\n",
       "\n",
       "    .dataframe tbody tr th {\n",
       "        vertical-align: top;\n",
       "    }\n",
       "\n",
       "    .dataframe thead th {\n",
       "        text-align: right;\n",
       "    }\n",
       "</style>\n",
       "<table border=\"1\" class=\"dataframe\">\n",
       "  <thead>\n",
       "    <tr style=\"text-align: right;\">\n",
       "      <th></th>\n",
       "      <th>ratio_TP_DRG</th>\n",
       "      <th>ratio_TP_State_DRG</th>\n",
       "      <th>ratio_TP_Region_DRG</th>\n",
       "      <th>ratio_D_DRG</th>\n",
       "      <th>ratio_D_States_DRG</th>\n",
       "      <th>ratio_D_Region_DRG</th>\n",
       "      <th>ratio_MP_DRG</th>\n",
       "      <th>ratio_MP_State_DRG</th>\n",
       "      <th>ratio_MP_Region_DRG</th>\n",
       "      <th>ratio_MTP_City_DRG</th>\n",
       "    </tr>\n",
       "  </thead>\n",
       "  <tbody>\n",
       "    <tr>\n",
       "      <th>0</th>\n",
       "      <td>0.830000</td>\n",
       "      <td>1.005855</td>\n",
       "      <td>1.037810</td>\n",
       "      <td>2.921770</td>\n",
       "      <td>1.338235</td>\n",
       "      <td>1.338235</td>\n",
       "      <td>0.857428</td>\n",
       "      <td>1.038763</td>\n",
       "      <td>1.038763</td>\n",
       "      <td>0.694634</td>\n",
       "    </tr>\n",
       "    <tr>\n",
       "      <th>1</th>\n",
       "      <td>0.831484</td>\n",
       "      <td>1.007653</td>\n",
       "      <td>1.008540</td>\n",
       "      <td>0.449503</td>\n",
       "      <td>0.509804</td>\n",
       "      <td>0.509804</td>\n",
       "      <td>0.895762</td>\n",
       "      <td>1.080948</td>\n",
       "      <td>1.080948</td>\n",
       "      <td>0.849598</td>\n",
       "    </tr>\n",
       "    <tr>\n",
       "      <th>2</th>\n",
       "      <td>0.780824</td>\n",
       "      <td>0.946260</td>\n",
       "      <td>0.947092</td>\n",
       "      <td>0.770577</td>\n",
       "      <td>0.873950</td>\n",
       "      <td>0.873950</td>\n",
       "      <td>0.801642</td>\n",
       "      <td>0.967369</td>\n",
       "      <td>0.967369</td>\n",
       "      <td>0.611923</td>\n",
       "    </tr>\n",
       "    <tr>\n",
       "      <th>3</th>\n",
       "      <td>0.778325</td>\n",
       "      <td>0.943232</td>\n",
       "      <td>0.944062</td>\n",
       "      <td>0.802684</td>\n",
       "      <td>0.910364</td>\n",
       "      <td>0.910364</td>\n",
       "      <td>0.743211</td>\n",
       "      <td>0.896859</td>\n",
       "      <td>0.896859</td>\n",
       "      <td>0.593905</td>\n",
       "    </tr>\n",
       "    <tr>\n",
       "      <th>4</th>\n",
       "      <td>0.812916</td>\n",
       "      <td>0.985152</td>\n",
       "      <td>0.986018</td>\n",
       "      <td>0.577933</td>\n",
       "      <td>0.655462</td>\n",
       "      <td>0.655462</td>\n",
       "      <td>0.873215</td>\n",
       "      <td>1.053739</td>\n",
       "      <td>1.053739</td>\n",
       "      <td>0.726413</td>\n",
       "    </tr>\n",
       "  </tbody>\n",
       "</table>\n",
       "</div>"
      ],
      "text/plain": [
       "   ratio_TP_DRG  ratio_TP_State_DRG  ratio_TP_Region_DRG  ratio_D_DRG  \\\n",
       "0      0.830000            1.005855             1.037810     2.921770   \n",
       "1      0.831484            1.007653             1.008540     0.449503   \n",
       "2      0.780824            0.946260             0.947092     0.770577   \n",
       "3      0.778325            0.943232             0.944062     0.802684   \n",
       "4      0.812916            0.985152             0.986018     0.577933   \n",
       "\n",
       "   ratio_D_States_DRG  ratio_D_Region_DRG  ratio_MP_DRG  ratio_MP_State_DRG  \\\n",
       "0            1.338235            1.338235      0.857428            1.038763   \n",
       "1            0.509804            0.509804      0.895762            1.080948   \n",
       "2            0.873950            0.873950      0.801642            0.967369   \n",
       "3            0.910364            0.910364      0.743211            0.896859   \n",
       "4            0.655462            0.655462      0.873215            1.053739   \n",
       "\n",
       "   ratio_MP_Region_DRG  ratio_MTP_City_DRG  \n",
       "0             1.038763            0.694634  \n",
       "1             1.080948            0.849598  \n",
       "2             0.967369            0.611923  \n",
       "3             0.896859            0.593905  \n",
       "4             1.053739            0.726413  "
      ]
     },
     "execution_count": 105,
     "metadata": {},
     "output_type": "execute_result"
    }
   ],
   "source": [
    "#X_train = newdf.copy()\n",
    "features=['ratio_TP_DRG',\n",
    "       'ratio_TP_State_DRG',\n",
    "       'ratio_TP_Region_DRG',\n",
    "       'ratio_D_DRG', \n",
    "       'ratio_D_States_DRG', \n",
    "       'ratio_D_Region_DRG',  'ratio_MP_DRG',\n",
    "        'ratio_MP_State_DRG',\n",
    "        'ratio_MP_Region_DRG',\n",
    "        'ratio_MTP_City_DRG']\n",
    "X_train = df[features]\n",
    "#X_train = X_train[features]\n",
    "X_train.head()"
   ]
  },
  {
   "cell_type": "code",
   "execution_count": 7,
   "metadata": {},
   "outputs": [
    {
     "data": {
      "text/plain": [
       "<AxesSubplot:>"
      ]
     },
     "execution_count": 7,
     "metadata": {},
     "output_type": "execute_result"
    },
    {
     "data": {
      "image/png": "[encoded data removed]",
      "text/plain": [
       "<Figure size 1152x720 with 2 Axes>"
      ]
     },
     "metadata": {
      "needs_background": "light"
     },
     "output_type": "display_data"
    }
   ],
   "source": [
    "correlation = X_train.corr()\n",
    "f, ax = plt.subplots(figsize=(16, 10))\n",
    "mask = np.triu(np.ones_like(correlation, dtype=bool)) #mask for upper triangle\n",
    "cmap = sns.diverging_palette(220, 10, as_cmap=True)\n",
    "sns.heatmap(correlation, mask = mask,vmin=-1, vmax=1,\n",
    "            cmap = 'BrBG',\n",
    "            #annot=True\n",
    "           )"
   ]
  },
  {
   "cell_type": "markdown",
   "metadata": {},
   "source": [
    "## Models - PCA in the PyOD module"
   ]
  },
  {
   "cell_type": "markdown",
   "metadata": {},
   "source": [
    "### Overview\n",
    "There are 3 types of unsupervised anomaly detection approaches, including proximity-based, distribution-based, or ensemble-based methods. Proximity-based algorithms identify outliers if its neighborhood does not have enough other points. \n",
    "\n",
    "One example using proximity-based algorithms is PCA, reducing to a lower dimensional without losing its main variance of raw data, espercailly in a dataset with large number of variables. It transforms a set of possibly correlated variables into a smaller number of linearly uncorrelated variables while retaining as much of the variance in the original dataset as possible. When reducing to a few principal dimensions, we can identify outliers because they are far away from other observations. When orthogonally projecting to the low-dimensional hyperplane, they will fall onto the eigenvectors with small eigenvalues. The eigenvectors with high eigenvalues capture most of the variance in the data."
   ]
  },
  {
   "cell_type": "markdown",
   "metadata": {},
   "source": [
    "### Modeling"
   ]
  },
  {
   "cell_type": "markdown",
   "metadata": {},
   "source": [
    "#### Model development\n",
    "The first model will use 5% contamination rate to construct model. It does not affect the calculation of the outlier scores and uses it to derive the threshold for the outlier scores."
   ]
  },
  {
   "cell_type": "code",
   "execution_count": 106,
   "metadata": {},
   "outputs": [
    {
     "name": "stdout",
     "output_type": "stream",
     "text": [
      "The threshold for the defined comtanimation rate: 3.8059235968874016e+34\n"
     ]
    }
   ],
   "source": [
    "from pyod.models.pca import PCA\n",
    "\n",
    "pca = PCA(contamination=0.05)\n",
    "pca.fit(X_train_norm)\n",
    "\n",
    "# get the prediction labels and outlier scores of the training data\n",
    "y_train_pred = pca.labels_  # binary labels (0: inliers, 1: outliers)\n",
    "y_train_scores = pca.decision_scores_  # .decision_scores_ yields the raw outlier scores for the training data\n",
    "#y_train_scores = pca.decision_function(X_train)  # You also can use .decision_function()\n",
    "#y_train_pred = pca.predict(X_train)  # You also can use .decision_function()\n",
    "\n",
    "# Threshold for the defined comtanimation rate\n",
    "print(\"The threshold for the defined comtanimation rate:\", pca.threshold_)"
   ]
  },
  {
   "cell_type": "markdown",
   "metadata": {},
   "source": [
    "After declaring and fitting the model, I generated the outlier scores for the training data. It also shows the threshold at the assigned contamination rate. Any outlier score higher than the threshold is considered an outlier."
   ]
  },
  {
   "cell_type": "code",
   "execution_count": 107,
   "metadata": {},
   "outputs": [],
   "source": [
    "#pca.get_params()"
   ]
  },
  {
   "cell_type": "code",
   "execution_count": 108,
   "metadata": {},
   "outputs": [
    {
     "name": "stdout",
     "output_type": "stream",
     "text": [
      "[4.87396953e+00 2.75039882e+00 9.80545434e-01 7.58734505e-01\n",
      " 3.03737023e-01 2.22913274e-01 9.45940208e-02 1.51687253e-02\n",
      " 3.68418135e-33 2.76166374e-33]\n",
      "[ 4.87396953  7.62436834  8.60491378  9.36364828  9.66738531  9.89029858\n",
      "  9.9848926  10.00006133 10.00006133 10.00006133]\n"
     ]
    },
    {
     "data": {
      "image/png": "[encoded data removed]",
      "text/plain": [
       "<Figure size 432x288 with 1 Axes>"
      ]
     },
     "metadata": {
      "needs_background": "light"
     },
     "output_type": "display_data"
    }
   ],
   "source": [
    "# explained variance ratio shows how much of the total variance is explained by each principal component.\n",
    "print(pca.explained_variance_)\n",
    "print(pca.explained_variance_.cumsum())\n",
    "\n",
    "plt.plot(pca.explained_variance_.cumsum())\n",
    "plt.title(\"Cumulative Explained Eariance\")\n",
    "plt.xlabel('Number of Components')\n",
    "plt.ylabel('Cumulative Explained Variance')\n",
    "plt.show()"
   ]
  },
  {
   "cell_type": "code",
   "execution_count": 109,
   "metadata": {},
   "outputs": [
    {
     "name": "stdout",
     "output_type": "stream",
     "text": [
      "[4.87393964e-01 2.75038195e-01 9.80539421e-02 7.58729852e-02\n",
      " 3.03735160e-02 2.22911907e-02 9.45934407e-03 1.51686323e-03\n",
      " 3.68415875e-34 2.76164681e-34]\n",
      "[0.48739396 0.76243216 0.8604861  0.93635909 0.9667326  0.98902379\n",
      " 0.99848314 1.         1.         1.        ]\n"
     ]
    },
    {
     "data": {
      "image/png": "[encoded data removed]",
      "text/plain": [
       "<Figure size 432x288 with 1 Axes>"
      ]
     },
     "metadata": {
      "needs_background": "light"
     },
     "output_type": "display_data"
    }
   ],
   "source": [
    "# explained variance ratio shows how much of the total variance is explained by each principal component.\n",
    "\n",
    "print(pca.explained_variance_ratio_)\n",
    "print(pca.explained_variance_ratio_.cumsum())\n",
    "\n",
    "plt.plot(pca.explained_variance_ratio_.cumsum())\n",
    "plt.title(\"Percentage of Cumulative Explained Eariance\")\n",
    "plt.xlabel('Number of Components')\n",
    "plt.ylabel('Percentage of cumulative explained variance')\n",
    "plt.show()"
   ]
  },
  {
   "cell_type": "markdown",
   "metadata": {},
   "source": [
    "The output below shows the first PC explains 48.73% variance, the second PC explains an additional 27.5%, the third 9.81%, and so on. The sum of the explained variance shall sum up to 100% for the ten principal components."
   ]
  },
  {
   "cell_type": "markdown",
   "metadata": {},
   "source": [
    "#### Threshold determination"
   ]
  },
  {
   "cell_type": "code",
   "execution_count": 110,
   "metadata": {},
   "outputs": [
    {
     "name": "stdout",
     "output_type": "stream",
     "text": [
      "The threshold for the defined comtanimation rate: 3.8059235968874016e+34\n"
     ]
    }
   ],
   "source": [
    "print(\"The threshold for the defined comtanimation rate:\" , pca.threshold_)"
   ]
  },
  {
   "cell_type": "code",
   "execution_count": 111,
   "metadata": {},
   "outputs": [
    {
     "data": {
      "image/png": "[encoded data removed]",
      "text/plain": [
       "<Figure size 432x288 with 1 Axes>"
      ]
     },
     "metadata": {
      "needs_background": "light"
     },
     "output_type": "display_data"
    }
   ],
   "source": [
    "plt.hist(y_train_scores, bins='auto')  # arguments are passed to np.histogram\n",
    "plt.title(\"Outlier score\")\n",
    "plt.xlabel('PCA outlier score')\n",
    "plt.axvline(x=pca.threshold_, color='r', label='thredhold')\n",
    "plt.show()"
   ]
  },
  {
   "cell_type": "markdown",
   "metadata": {},
   "source": [
    "Since we don't have any prior knowledge on the percentage of anomalies, we use build-in threshold as the reasonable threshold value. \n",
    "\n",
    "The above chart displays the histogram of the PCA outlier score. We can see that it has a long tail on the right side. Right-skewed Distribution has the mean to the right of the median. Scores above 0.38 are far from the central part of the distribution."
   ]
  },
  {
   "cell_type": "markdown",
   "metadata": {},
   "source": [
    "#### Descriptive statistics of the normal and abnormal groups"
   ]
  },
  {
   "cell_type": "code",
   "execution_count": 112,
   "metadata": {},
   "outputs": [
    {
     "data": {
      "text/html": [
       "<div>\n",
       "<style scoped>\n",
       "    .dataframe tbody tr th:only-of-type {\n",
       "        vertical-align: middle;\n",
       "    }\n",
       "\n",
       "    .dataframe tbody tr th {\n",
       "        vertical-align: top;\n",
       "    }\n",
       "\n",
       "    .dataframe thead th {\n",
       "        text-align: right;\n",
       "    }\n",
       "</style>\n",
       "<table border=\"1\" class=\"dataframe\">\n",
       "  <thead>\n",
       "    <tr style=\"text-align: right;\">\n",
       "      <th></th>\n",
       "      <th>Group</th>\n",
       "      <th>Count</th>\n",
       "      <th>Count %</th>\n",
       "      <th>ratio_TP_DRG</th>\n",
       "      <th>ratio_TP_State_DRG</th>\n",
       "      <th>ratio_TP_Region_DRG</th>\n",
       "      <th>ratio_D_DRG</th>\n",
       "      <th>ratio_D_States_DRG</th>\n",
       "      <th>ratio_D_Region_DRG</th>\n",
       "      <th>ratio_MP_DRG</th>\n",
       "      <th>ratio_MP_State_DRG</th>\n",
       "      <th>ratio_MP_Region_DRG</th>\n",
       "      <th>ratio_MTP_City_DRG</th>\n",
       "      <th>Anomaly_Score</th>\n",
       "    </tr>\n",
       "  </thead>\n",
       "  <tbody>\n",
       "    <tr>\n",
       "      <th>0</th>\n",
       "      <td>Normal</td>\n",
       "      <td>154911</td>\n",
       "      <td>94.99954</td>\n",
       "      <td>0.97</td>\n",
       "      <td>0.98</td>\n",
       "      <td>0.98</td>\n",
       "      <td>0.95</td>\n",
       "      <td>0.97</td>\n",
       "      <td>0.97</td>\n",
       "      <td>0.97</td>\n",
       "      <td>0.98</td>\n",
       "      <td>0.98</td>\n",
       "      <td>0.98</td>\n",
       "      <td>1.650763e+34</td>\n",
       "    </tr>\n",
       "    <tr>\n",
       "      <th>1</th>\n",
       "      <td>Outlier</td>\n",
       "      <td>8154</td>\n",
       "      <td>5.00046</td>\n",
       "      <td>1.56</td>\n",
       "      <td>1.46</td>\n",
       "      <td>1.35</td>\n",
       "      <td>1.88</td>\n",
       "      <td>1.65</td>\n",
       "      <td>1.65</td>\n",
       "      <td>1.61</td>\n",
       "      <td>1.38</td>\n",
       "      <td>1.38</td>\n",
       "      <td>1.41</td>\n",
       "      <td>5.132232e+34</td>\n",
       "    </tr>\n",
       "  </tbody>\n",
       "</table>\n",
       "</div>"
      ],
      "text/plain": [
       "     Group   Count   Count %  ratio_TP_DRG  ratio_TP_State_DRG  \\\n",
       "0   Normal  154911  94.99954          0.97                0.98   \n",
       "1  Outlier    8154   5.00046          1.56                1.46   \n",
       "\n",
       "   ratio_TP_Region_DRG  ratio_D_DRG  ratio_D_States_DRG  ratio_D_Region_DRG  \\\n",
       "0                 0.98         0.95                0.97                0.97   \n",
       "1                 1.35         1.88                1.65                1.65   \n",
       "\n",
       "   ratio_MP_DRG  ratio_MP_State_DRG  ratio_MP_Region_DRG  ratio_MTP_City_DRG  \\\n",
       "0          0.97                0.98                 0.98                0.98   \n",
       "1          1.61                1.38                 1.38                1.41   \n",
       "\n",
       "   Anomaly_Score  \n",
       "0   1.650763e+34  \n",
       "1   5.132232e+34  "
      ]
     },
     "execution_count": 112,
     "metadata": {},
     "output_type": "execute_result"
    }
   ],
   "source": [
    "threshold = pca.threshold_\n",
    "threshold\n",
    "\n",
    "def descriptive_stat_threshold(df,pred_score, threshold):\n",
    "    # Let's see how many '0's and '1's.\n",
    "    df = pd.DataFrame(df)\n",
    "    df['Anomaly_Score'] = pred_score\n",
    "    df['Group'] = np.where(df['Anomaly_Score']< threshold, 'Normal', 'Outlier')\n",
    "\n",
    "    # Now let's show the summary statistics:\n",
    "    cnt = df.groupby('Group')['Anomaly_Score'].count().reset_index().rename(columns={'Anomaly_Score':'Count'})\n",
    "    cnt['Count %'] = (cnt['Count'] / cnt['Count'].sum()) * 100 # The count and count %\n",
    "    stat = df.groupby('Group').mean().round(2).reset_index() # The avg.\n",
    "    stat = cnt.merge(stat, left_on='Group',right_on='Group') # Put the count and the avg. together\n",
    "    return (stat)\n",
    "\n",
    "descriptive_stat_threshold(X_train,y_train_scores, threshold)"
   ]
  },
  {
   "attachments": {},
   "cell_type": "markdown",
   "metadata": {},
   "source": [
    "The above table shows descriptive statistics of the features between the normal and abnormal groups. It is helpful to communicate the soundness of the model. The table shows the count and count percentage of the normal and outlier groups.\n",
    "\n",
    "Summary:\n",
    "* The size of the outlier group: The outlier group is about 5% at the threshold for the defined comtanimation rate. \n",
    "* The average anomaly score: The average ECOD score of the outlier group is far higher than that of the normal group (5.13 > 1.65). \n",
    "* The feature statistics in each group: The table shows the outlier group has larger values for each feature than those of the normal group. \n",
    "* From the summary statistics, ratio_D_DRG, ratio_D_States_DRG, and ratio_D_Region_DRG in the outliers are 0.93, 0.69, and 0.69 higher than those in the normals respectively. The reault is different to the reault from HBOS model and ECOD model prabaly because PCA uses proximity-based algorithms.\n",
    "\n",
    "The business insight:\n",
    "We expect that the outlier group should have higher amounts than the normal groups. The difference in average anomaly score just verifies the data in the outlier group are outliers. Each feature statistics in each group is higher than the normal group. Therefore the feature statistics prove the effectiveness of the model because the suspect observations who commit abuse or fraud will have higher amounts than normal groups.\n"
   ]
  },
  {
   "cell_type": "markdown",
   "metadata": {},
   "source": [
    "#### Outliers Identified by Multiple Models\n",
    "If an outlier is identified by multiple models, the chance that it is an outlier is much higher. I will use two models HBOS and ECOD in the previous to identify outliers that both of them label them outliers. "
   ]
  },
  {
   "cell_type": "code",
   "execution_count": 90,
   "metadata": {},
   "outputs": [
    {
     "data": {
      "text/plain": [
       "[27.976670294161472, 11.56500715393102, 6.437426867697841e+34]"
      ]
     },
     "execution_count": 90,
     "metadata": {},
     "output_type": "execute_result"
    }
   ],
   "source": [
    "#generate thresholds\n",
    "########\n",
    "# HBOS #\n",
    "########\n",
    "from pyod.models.hbos import HBOS\n",
    "n_bins = 50\n",
    "hbos = HBOS(n_bins=n_bins,contamination=0.05) \n",
    "hbos.fit(X_train)\n",
    "y_train_hbos_scores = hbos.decision_function(X_train)\n",
    "\n",
    "########\n",
    "# ECOD #\n",
    "########\n",
    "from pyod.models.ecod import ECOD\n",
    "clf_name = 'ECOD'\n",
    "ecod = ECOD(contamination=0.05) \n",
    "ecod.fit(X_train)\n",
    "y_train_ecod_scores = ecod.decision_function(X_train)\n",
    "\n",
    "########\n",
    "# PCA  #\n",
    "########\n",
    "from pyod.models.pca import PCA\n",
    "pca = PCA(contamination=0.05) \n",
    "pca.fit(X_train)\n",
    "y_train_pca_scores = pca.decision_function(X_train)\n",
    "\n",
    "# Thresholds\n",
    "[ecod.threshold_, hbos.threshold_, pca.threshold_]"
   ]
  },
  {
   "cell_type": "code",
   "execution_count": 91,
   "metadata": {},
   "outputs": [
    {
     "data": {
      "text/html": [
       "<div>\n",
       "<style scoped>\n",
       "    .dataframe tbody tr th:only-of-type {\n",
       "        vertical-align: middle;\n",
       "    }\n",
       "\n",
       "    .dataframe tbody tr th {\n",
       "        vertical-align: top;\n",
       "    }\n",
       "\n",
       "    .dataframe thead th {\n",
       "        text-align: right;\n",
       "    }\n",
       "</style>\n",
       "<table border=\"1\" class=\"dataframe\">\n",
       "  <thead>\n",
       "    <tr style=\"text-align: right;\">\n",
       "      <th></th>\n",
       "      <th>HBO_Score</th>\n",
       "      <th>ECOD_Score</th>\n",
       "      <th>PCA_Score</th>\n",
       "      <th>HBOS_pred</th>\n",
       "      <th>ECOD_pred</th>\n",
       "      <th>PCA_pred</th>\n",
       "    </tr>\n",
       "  </thead>\n",
       "  <tbody>\n",
       "    <tr>\n",
       "      <th>0</th>\n",
       "      <td>-2.115489</td>\n",
       "      <td>14.825068</td>\n",
       "      <td>3.233060e+34</td>\n",
       "      <td>0</td>\n",
       "      <td>0</td>\n",
       "      <td>0</td>\n",
       "    </tr>\n",
       "    <tr>\n",
       "      <th>1</th>\n",
       "      <td>-6.349433</td>\n",
       "      <td>13.365265</td>\n",
       "      <td>2.128992e+34</td>\n",
       "      <td>0</td>\n",
       "      <td>0</td>\n",
       "      <td>0</td>\n",
       "    </tr>\n",
       "    <tr>\n",
       "      <th>2</th>\n",
       "      <td>-8.804425</td>\n",
       "      <td>10.499747</td>\n",
       "      <td>1.860070e+34</td>\n",
       "      <td>0</td>\n",
       "      <td>0</td>\n",
       "      <td>0</td>\n",
       "    </tr>\n",
       "    <tr>\n",
       "      <th>3</th>\n",
       "      <td>-6.436778</td>\n",
       "      <td>12.866494</td>\n",
       "      <td>2.134580e+34</td>\n",
       "      <td>0</td>\n",
       "      <td>0</td>\n",
       "      <td>0</td>\n",
       "    </tr>\n",
       "    <tr>\n",
       "      <th>4</th>\n",
       "      <td>-6.764874</td>\n",
       "      <td>11.288543</td>\n",
       "      <td>1.885729e+34</td>\n",
       "      <td>0</td>\n",
       "      <td>0</td>\n",
       "      <td>0</td>\n",
       "    </tr>\n",
       "  </tbody>\n",
       "</table>\n",
       "</div>"
      ],
      "text/plain": [
       "   HBO_Score  ECOD_Score     PCA_Score  HBOS_pred  ECOD_pred  PCA_pred\n",
       "0  -2.115489   14.825068  3.233060e+34          0          0         0\n",
       "1  -6.349433   13.365265  2.128992e+34          0          0         0\n",
       "2  -8.804425   10.499747  1.860070e+34          0          0         0\n",
       "3  -6.436778   12.866494  2.134580e+34          0          0         0\n",
       "4  -6.764874   11.288543  1.885729e+34          0          0         0"
      ]
     },
     "execution_count": 91,
     "metadata": {},
     "output_type": "execute_result"
    }
   ],
   "source": [
    "# Put the HBO score and the ECOD score together using the built-in threshold function to b\n",
    "preds = pd.DataFrame({\n",
    "    'HBO_Score': y_train_hbos_scores,\n",
    "    'ECOD_Score': y_train_ecod_scores,\n",
    "    'PCA_Score': y_train_pca_scores\n",
    "})\n",
    "preds['HBOS_pred'] = np.where(preds['HBO_Score'] > hbos.threshold_, 1, 0)\n",
    "preds['ECOD_pred'] = np.where(preds['ECOD_Score'] > ecod.threshold_, 1, 0)\n",
    "preds['PCA_pred'] = np.where(preds['PCA_Score'] > pca.threshold_, 1, 0)\n",
    "preds.head()"
   ]
  },
  {
   "cell_type": "code",
   "execution_count": 92,
   "metadata": {},
   "outputs": [
    {
     "data": {
      "text/html": [
       "<div>\n",
       "<style scoped>\n",
       "    .dataframe tbody tr th:only-of-type {\n",
       "        vertical-align: middle;\n",
       "    }\n",
       "\n",
       "    .dataframe tbody tr th {\n",
       "        vertical-align: top;\n",
       "    }\n",
       "\n",
       "    .dataframe thead th {\n",
       "        text-align: right;\n",
       "    }\n",
       "</style>\n",
       "<table border=\"1\" class=\"dataframe\">\n",
       "  <thead>\n",
       "    <tr style=\"text-align: right;\">\n",
       "      <th>PCA_pred</th>\n",
       "      <th>0</th>\n",
       "      <th>1</th>\n",
       "    </tr>\n",
       "    <tr>\n",
       "      <th>HBOS_pred</th>\n",
       "      <th></th>\n",
       "      <th></th>\n",
       "    </tr>\n",
       "  </thead>\n",
       "  <tbody>\n",
       "    <tr>\n",
       "      <th>0</th>\n",
       "      <td>152431</td>\n",
       "      <td>2481</td>\n",
       "    </tr>\n",
       "    <tr>\n",
       "      <th>1</th>\n",
       "      <td>2480</td>\n",
       "      <td>5673</td>\n",
       "    </tr>\n",
       "  </tbody>\n",
       "</table>\n",
       "</div>"
      ],
      "text/plain": [
       "PCA_pred        0     1\n",
       "HBOS_pred              \n",
       "0          152431  2481\n",
       "1            2480  5673"
      ]
     },
     "execution_count": 92,
     "metadata": {},
     "output_type": "execute_result"
    }
   ],
   "source": [
    "# cross-tabulate the HBOS and the PCA predictions\n",
    "pd.crosstab(preds['HBOS_pred'], preds['PCA_pred'])"
   ]
  },
  {
   "cell_type": "markdown",
   "metadata": {},
   "source": [
    "When I cross-tabulate the HBOS and the PCA predictions, about 3.48% (5673 observations) are identified by both the HBOS and the ECOD models to be outliers."
   ]
  },
  {
   "cell_type": "code",
   "execution_count": 93,
   "metadata": {},
   "outputs": [
    {
     "data": {
      "text/html": [
       "<div>\n",
       "<style scoped>\n",
       "    .dataframe tbody tr th:only-of-type {\n",
       "        vertical-align: middle;\n",
       "    }\n",
       "\n",
       "    .dataframe tbody tr th {\n",
       "        vertical-align: top;\n",
       "    }\n",
       "\n",
       "    .dataframe thead th {\n",
       "        text-align: right;\n",
       "    }\n",
       "</style>\n",
       "<table border=\"1\" class=\"dataframe\">\n",
       "  <thead>\n",
       "    <tr style=\"text-align: right;\">\n",
       "      <th>PCA_pred</th>\n",
       "      <th>0</th>\n",
       "      <th>1</th>\n",
       "    </tr>\n",
       "    <tr>\n",
       "      <th>ECOD_pred</th>\n",
       "      <th></th>\n",
       "      <th></th>\n",
       "    </tr>\n",
       "  </thead>\n",
       "  <tbody>\n",
       "    <tr>\n",
       "      <th>0</th>\n",
       "      <td>151691</td>\n",
       "      <td>3220</td>\n",
       "    </tr>\n",
       "    <tr>\n",
       "      <th>1</th>\n",
       "      <td>3220</td>\n",
       "      <td>4934</td>\n",
       "    </tr>\n",
       "  </tbody>\n",
       "</table>\n",
       "</div>"
      ],
      "text/plain": [
       "PCA_pred        0     1\n",
       "ECOD_pred              \n",
       "0          151691  3220\n",
       "1            3220  4934"
      ]
     },
     "execution_count": 93,
     "metadata": {},
     "output_type": "execute_result"
    }
   ],
   "source": [
    "# cross-tabulate the HBOS and the PCA predictions\n",
    "pd.crosstab(preds['ECOD_pred'], preds['PCA_pred'])"
   ]
  },
  {
   "cell_type": "markdown",
   "metadata": {},
   "source": [
    "When I cross-tabulate the ECOD and the PCA predictions, about 3.03% (4934 observations) are identified by both the HBOS and the ECOD models to be outliers."
   ]
  }
 ],
 "metadata": {
  "kernelspec": {
   "display_name": "Python 3 (ipykernel)",
   "language": "python",
   "name": "python3"
  },
  "language_info": {
   "codemirror_mode": {
    "name": "ipython",
    "version": 3
   },
   "file_extension": ".py",
   "mimetype": "text/x-python",
   "name": "python",
   "nbconvert_exporter": "python",
   "pygments_lexer": "ipython3",
   "version": "3.9.7"
  },
  "toc": {
   "base_numbering": 1,
   "nav_menu": {},
   "number_sections": true,
   "sideBar": true,
   "skip_h1_title": true,
   "title_cell": "Table of Contents",
   "title_sidebar": "Contents",
   "toc_cell": true,
   "toc_position": {
    "height": "calc(100% - 180px)",
    "left": "10px",
    "top": "150px",
    "width": "276.662px"
   },
   "toc_section_display": true,
   "toc_window_display": true
  },
  "varInspector": {
   "cols": {
    "lenName": 16,
    "lenType": 16,
    "lenVar": 40
   },
   "kernels_config": {
    "python": {
     "delete_cmd_postfix": "",
     "delete_cmd_prefix": "del ",
     "library": "var_list.py",
     "varRefreshCmd": "print(var_dic_list())"
    },
    "r": {
     "delete_cmd_postfix": ") ",
     "delete_cmd_prefix": "rm(",
     "library": "var_list.r",
     "varRefreshCmd": "cat(var_dic_list()) "
    }
   },
   "types_to_exclude": [
    "module",
    "function",
    "builtin_function_or_method",
    "instance",
    "_Feature"
   ],
   "window_display": false
  }
 },
 "nbformat": 4,
 "nbformat_minor": 4
}
