{
 "cells": [
  {
   "cell_type": "markdown",
   "metadata": {},
   "source": [
    "# Healthcare Fraud --- II Models "
   ]
  },
  {
   "cell_type": "markdown",
   "metadata": {},
   "source": [
    "# Objectives\n",
    "This notebook will conduct an analysis of the Fraud, Waste, and Abuse of Medical resources. I will focus on detecting any hospital that may abuse the resources compared to its peers of the same features, location, or each diagnosis group.\n",
    "\n",
    "# Dataset\n",
    "The dataset is from the Medicare Inpatient Hospitals by Geography and service that provides information on hospital discharges. Please see more information in \"Healthcare Fraud --- I EDA&Feature Engineering\".\n",
    "\n",
    "# Models\n",
    "I will perform various techniques to identify fraud in the healthcare industry and follow modeling procedures for the model development, assessment, and interpretation of the results. \n",
    "* Model development\n",
    "* Threshold determination\n",
    "* Descriptive statistics of the normal and abnormal groups\n",
    "\n",
    "Python Outlier Detection (PyOD) module includes many supervised and unsupervised algorithms to detect anomalies. I will apply histogram-based outlier detection (HBOS) in this notebook."
   ]
  },
  {
   "cell_type": "markdown",
   "metadata": {
    "toc": true
   },
   "source": [
    "<h1>Table of Contents<span class=\"tocSkip\"></span></h1>\n",
    "<div class=\"toc\"><ul class=\"toc-item\"><li><span><a href=\"#Data-preparation-\" data-toc-modified-id=\"Data-preparation--1\"><span class=\"toc-item-num\">1&nbsp;&nbsp;</span>Data preparation <a class=\"anchor\" id=\"Section_1\" rel=\"nofollow\"></a></a></span></li><li><span><a href=\"#Feature-Selection\" data-toc-modified-id=\"Feature-Selection-2\"><span class=\"toc-item-num\">2&nbsp;&nbsp;</span>Feature Selection</a></span></li><li><span><a href=\"#Models---HBOS-in-the-PyOD-module\" data-toc-modified-id=\"Models---HBOS-in-the-PyOD-module-3\"><span class=\"toc-item-num\">3&nbsp;&nbsp;</span>Models - HBOS in the PyOD module</a></span><ul class=\"toc-item\"><li><span><a href=\"#Overview\" data-toc-modified-id=\"Overview-3.1\"><span class=\"toc-item-num\">3.1&nbsp;&nbsp;</span>Overview</a></span></li><li><span><a href=\"#Modeling\" data-toc-modified-id=\"Modeling-3.2\"><span class=\"toc-item-num\">3.2&nbsp;&nbsp;</span>Modeling</a></span><ul class=\"toc-item\"><li><span><a href=\"#Model-development\" data-toc-modified-id=\"Model-development-3.2.1\"><span class=\"toc-item-num\">3.2.1&nbsp;&nbsp;</span>Model development</a></span></li><li><span><a href=\"#Threshold-determination\" data-toc-modified-id=\"Threshold-determination-3.2.2\"><span class=\"toc-item-num\">3.2.2&nbsp;&nbsp;</span>Threshold determination</a></span></li><li><span><a href=\"#Descriptive-statistics-of-the-normal-and-abnormal-groups\" data-toc-modified-id=\"Descriptive-statistics-of-the-normal-and-abnormal-groups-3.2.3\"><span class=\"toc-item-num\">3.2.3&nbsp;&nbsp;</span>Descriptive statistics of the normal and abnormal groups</a></span></li></ul></li><li><span><a href=\"#Modeling---Tuning-Hyperparameters-with-aggregation\" data-toc-modified-id=\"Modeling---Tuning-Hyperparameters-with-aggregation-3.3\"><span class=\"toc-item-num\">3.3&nbsp;&nbsp;</span>Modeling - Tuning Hyperparameters with aggregation</a></span><ul class=\"toc-item\"><li><span><a href=\"#Average\" data-toc-modified-id=\"Average-3.3.1\"><span class=\"toc-item-num\">3.3.1&nbsp;&nbsp;</span>Average</a></span></li><li><span><a href=\"#Average-of-Maximum-(AOM)\" data-toc-modified-id=\"Average-of-Maximum-(AOM)-3.3.2\"><span class=\"toc-item-num\">3.3.2&nbsp;&nbsp;</span>Average of Maximum (AOM)</a></span></li><li><span><a href=\"#Maximum-of-Average-(MOA)\" data-toc-modified-id=\"Maximum-of-Average-(MOA)-3.3.3\"><span class=\"toc-item-num\">3.3.3&nbsp;&nbsp;</span>Maximum of Average (MOA)</a></span></li><li><span><a href=\"#Maximum-of-Maximum-(MOM)\" data-toc-modified-id=\"Maximum-of-Maximum-(MOM)-3.3.4\"><span class=\"toc-item-num\">3.3.4&nbsp;&nbsp;</span>Maximum of Maximum (MOM)</a></span></li></ul></li></ul></li></ul></div>"
   ]
  },
  {
   "cell_type": "code",
   "execution_count": 1,
   "metadata": {},
   "outputs": [],
   "source": [
    "#from IPython.core.interactiveshell import InteractiveShell\n",
    "#InteractiveShell.ast_node_interactivity = \"all\"\n",
    "\n",
    "#pd.options.display.float_forma\n",
    "t = '{:.2f}'.format"
   ]
  },
  {
   "cell_type": "markdown",
   "metadata": {},
   "source": [
    "## Data preparation <a class=\"anchor\" id=\"Section_1\"></a>\n",
    "Dataset is prepared from last module. "
   ]
  },
  {
   "cell_type": "code",
   "execution_count": 7,
   "metadata": {},
   "outputs": [],
   "source": [
    "import pandas as pd\n",
    "import numpy as np\n",
    "import matplotlib.pyplot as plt\n",
    "import seaborn as sns\n",
    "import plotly.express as px\n",
    "%matplotlib inline\n",
    "from pyod.models.hbos import HBOS"
   ]
  },
  {
   "cell_type": "code",
   "execution_count": 8,
   "metadata": {},
   "outputs": [],
   "source": [
    "#Loading Data\n",
    "path = '/Users/Edwina/Desktop/2022fall/5420/week5'\n",
    "df = pd.read_csv(path + '/data_healthcare.csv')"
   ]
  },
  {
   "cell_type": "code",
   "execution_count": 9,
   "metadata": {},
   "outputs": [
    {
     "name": "stdout",
     "output_type": "stream",
     "text": [
      "<class 'pandas.core.frame.DataFrame'>\n",
      "RangeIndex: 163065 entries, 0 to 163064\n",
      "Data columns (total 42 columns):\n",
      " #   Column                            Non-Null Count   Dtype  \n",
      "---  ------                            --------------   -----  \n",
      " 0   Unnamed: 0                        163065 non-null  int64  \n",
      " 1   DRG                               163065 non-null  object \n",
      " 2   Provider_Id                       163065 non-null  int64  \n",
      " 3   Provider_Name                     163065 non-null  object \n",
      " 4   Provider_StreetAddress            163065 non-null  object \n",
      " 5   Provider_City                     163065 non-null  object \n",
      " 6   Provider_State                    163065 non-null  object \n",
      " 7   Provider_Zipcode                  163065 non-null  int64  \n",
      " 8   Hospital_referral_region_desp     163065 non-null  object \n",
      " 9   Total_Discharges                  163065 non-null  int64  \n",
      " 10  Average_Total_Payments            163065 non-null  float64\n",
      " 11  Average_Medicare_Payment          163065 non-null  float64\n",
      " 12  AvgPayment_By_DRG                 163065 non-null  float64\n",
      " 13  ratio_TP_DRG                      163065 non-null  float64\n",
      " 14  ratio_TP_DRG_bin                  163065 non-null  object \n",
      " 15  AvgPayment_By_State_DRG           163065 non-null  float64\n",
      " 16  ratio_TP_State_DRG                163065 non-null  float64\n",
      " 17  ratio_TP_State_DRG_bin            163065 non-null  object \n",
      " 18  AvgPayment_By_Region_DRG          163065 non-null  float64\n",
      " 19  ratio_TP_Region_DRG               163065 non-null  float64\n",
      " 20  ratio_TP_Region_DRG_bin           163065 non-null  object \n",
      " 21  AvgDischarges_By_DRG              163065 non-null  float64\n",
      " 22  ratio_D_DRG                       163065 non-null  float64\n",
      " 23  ratio_D_DRG_bin                   163065 non-null  object \n",
      " 24  AvgDischarges_By_States_DRG       163065 non-null  float64\n",
      " 25  ratio_D_States_DRG                163065 non-null  float64\n",
      " 26  ratio_D_States_DRG_bin            163065 non-null  object \n",
      " 27  AvgDischarges_By_Region_DRG       163065 non-null  float64\n",
      " 28  ratio_D_Region_DRG                163065 non-null  float64\n",
      " 29  ratio_D_Region_DRG_bin            163065 non-null  object \n",
      " 30  AvgMedicarePayment_By_DRG         163065 non-null  float64\n",
      " 31  ratio_MP_DRG                      163065 non-null  float64\n",
      " 32  ratio_MP_DRG_bin                  163065 non-null  object \n",
      " 33  AvgMedicarePayment_By_State_DRG   163065 non-null  float64\n",
      " 34  ratio_MP_State_DRG                163065 non-null  float64\n",
      " 35  ratio_MP_State_DRG_bin            163065 non-null  object \n",
      " 36  AvgMedicarePayment_By_Region_DRG  163065 non-null  float64\n",
      " 37  ratio_MP_Region_DRG               163065 non-null  float64\n",
      " 38  ratio_MP_Region_DRG_bin           163065 non-null  object \n",
      " 39  MTotalPayment_By_City             163065 non-null  float64\n",
      " 40  ratio_MTP_City_DRG                163065 non-null  float64\n",
      " 41  ratio_MTP_City_DRG_bin            163065 non-null  object \n",
      "dtypes: float64(22), int64(4), object(16)\n",
      "memory usage: 52.3+ MB\n"
     ]
    }
   ],
   "source": [
    "#df.describe()\n",
    "#df.head()\n",
    "df.info()"
   ]
  },
  {
   "cell_type": "code",
   "execution_count": 10,
   "metadata": {},
   "outputs": [
    {
     "data": {
      "text/html": [
       "<div>\n",
       "<style scoped>\n",
       "    .dataframe tbody tr th:only-of-type {\n",
       "        vertical-align: middle;\n",
       "    }\n",
       "\n",
       "    .dataframe tbody tr th {\n",
       "        vertical-align: top;\n",
       "    }\n",
       "\n",
       "    .dataframe thead th {\n",
       "        text-align: right;\n",
       "    }\n",
       "</style>\n",
       "<table border=\"1\" class=\"dataframe\">\n",
       "  <thead>\n",
       "    <tr style=\"text-align: right;\">\n",
       "      <th></th>\n",
       "      <th>Unnamed: 0</th>\n",
       "      <th>DRG</th>\n",
       "      <th>Provider_Id</th>\n",
       "      <th>Provider_Name</th>\n",
       "      <th>Provider_StreetAddress</th>\n",
       "      <th>Provider_City</th>\n",
       "      <th>Provider_State</th>\n",
       "      <th>Provider_Zipcode</th>\n",
       "      <th>Hospital_referral_region_desp</th>\n",
       "      <th>Total_Discharges</th>\n",
       "      <th>...</th>\n",
       "      <th>ratio_MP_DRG_bin</th>\n",
       "      <th>AvgMedicarePayment_By_State_DRG</th>\n",
       "      <th>ratio_MP_State_DRG</th>\n",
       "      <th>ratio_MP_State_DRG_bin</th>\n",
       "      <th>AvgMedicarePayment_By_Region_DRG</th>\n",
       "      <th>ratio_MP_Region_DRG</th>\n",
       "      <th>ratio_MP_Region_DRG_bin</th>\n",
       "      <th>MTotalPayment_By_City</th>\n",
       "      <th>ratio_MTP_City_DRG</th>\n",
       "      <th>ratio_MTP_City_DRG_bin</th>\n",
       "    </tr>\n",
       "  </thead>\n",
       "  <tbody>\n",
       "    <tr>\n",
       "      <th>0</th>\n",
       "      <td>0</td>\n",
       "      <td>039 - EXTRACRANIAL PROCEDURES W/O CC/MCC</td>\n",
       "      <td>10001</td>\n",
       "      <td>SOUTHEAST ALABAMA MEDICAL CENTER</td>\n",
       "      <td>1108 ROSS CLARK CIRCLE</td>\n",
       "      <td>DOTHAN</td>\n",
       "      <td>AL</td>\n",
       "      <td>36301</td>\n",
       "      <td>AL - Dothan</td>\n",
       "      <td>91</td>\n",
       "      <td>...</td>\n",
       "      <td>(0.802, 0.917]</td>\n",
       "      <td>4585.965000</td>\n",
       "      <td>1.038763</td>\n",
       "      <td>(0.977, 1.093]</td>\n",
       "      <td>4585.965000</td>\n",
       "      <td>1.038763</td>\n",
       "      <td>(0.977, 1.093]</td>\n",
       "      <td>8316.949825</td>\n",
       "      <td>0.694634</td>\n",
       "      <td>(0.534, 0.774]</td>\n",
       "    </tr>\n",
       "    <tr>\n",
       "      <th>1</th>\n",
       "      <td>1</td>\n",
       "      <td>039 - EXTRACRANIAL PROCEDURES W/O CC/MCC</td>\n",
       "      <td>10005</td>\n",
       "      <td>MARSHALL MEDICAL CENTER SOUTH</td>\n",
       "      <td>2505 U S HIGHWAY 431 NORTH</td>\n",
       "      <td>BOAZ</td>\n",
       "      <td>AL</td>\n",
       "      <td>35957</td>\n",
       "      <td>AL - Birmingham</td>\n",
       "      <td>14</td>\n",
       "      <td>...</td>\n",
       "      <td>(0.802, 0.917]</td>\n",
       "      <td>4604.024615</td>\n",
       "      <td>1.080948</td>\n",
       "      <td>(0.977, 1.093]</td>\n",
       "      <td>4604.024615</td>\n",
       "      <td>1.080948</td>\n",
       "      <td>(0.977, 1.093]</td>\n",
       "      <td>6812.131224</td>\n",
       "      <td>0.849598</td>\n",
       "      <td>(0.774, 1.305]</td>\n",
       "    </tr>\n",
       "    <tr>\n",
       "      <th>2</th>\n",
       "      <td>2</td>\n",
       "      <td>039 - EXTRACRANIAL PROCEDURES W/O CC/MCC</td>\n",
       "      <td>10006</td>\n",
       "      <td>ELIZA COFFEE MEMORIAL HOSPITAL</td>\n",
       "      <td>205 MARENGO STREET</td>\n",
       "      <td>FLORENCE</td>\n",
       "      <td>AL</td>\n",
       "      <td>35631</td>\n",
       "      <td>AL - Birmingham</td>\n",
       "      <td>24</td>\n",
       "      <td>...</td>\n",
       "      <td>(0.723, 0.802]</td>\n",
       "      <td>4604.024615</td>\n",
       "      <td>0.967369</td>\n",
       "      <td>(0.873, 0.977]</td>\n",
       "      <td>4604.024615</td>\n",
       "      <td>0.967369</td>\n",
       "      <td>(0.873, 0.977]</td>\n",
       "      <td>8881.752832</td>\n",
       "      <td>0.611923</td>\n",
       "      <td>(0.534, 0.774]</td>\n",
       "    </tr>\n",
       "  </tbody>\n",
       "</table>\n",
       "<p>3 rows × 42 columns</p>\n",
       "</div>"
      ],
      "text/plain": [
       "   Unnamed: 0                                       DRG  Provider_Id  \\\n",
       "0           0  039 - EXTRACRANIAL PROCEDURES W/O CC/MCC        10001   \n",
       "1           1  039 - EXTRACRANIAL PROCEDURES W/O CC/MCC        10005   \n",
       "2           2  039 - EXTRACRANIAL PROCEDURES W/O CC/MCC        10006   \n",
       "\n",
       "                      Provider_Name      Provider_StreetAddress Provider_City  \\\n",
       "0  SOUTHEAST ALABAMA MEDICAL CENTER      1108 ROSS CLARK CIRCLE        DOTHAN   \n",
       "1     MARSHALL MEDICAL CENTER SOUTH  2505 U S HIGHWAY 431 NORTH          BOAZ   \n",
       "2    ELIZA COFFEE MEMORIAL HOSPITAL          205 MARENGO STREET      FLORENCE   \n",
       "\n",
       "  Provider_State  Provider_Zipcode Hospital_referral_region_desp  \\\n",
       "0             AL             36301                   AL - Dothan   \n",
       "1             AL             35957               AL - Birmingham   \n",
       "2             AL             35631               AL - Birmingham   \n",
       "\n",
       "   Total_Discharges  ...  ratio_MP_DRG_bin  AvgMedicarePayment_By_State_DRG  \\\n",
       "0                91  ...    (0.802, 0.917]                      4585.965000   \n",
       "1                14  ...    (0.802, 0.917]                      4604.024615   \n",
       "2                24  ...    (0.723, 0.802]                      4604.024615   \n",
       "\n",
       "   ratio_MP_State_DRG  ratio_MP_State_DRG_bin  \\\n",
       "0            1.038763          (0.977, 1.093]   \n",
       "1            1.080948          (0.977, 1.093]   \n",
       "2            0.967369          (0.873, 0.977]   \n",
       "\n",
       "  AvgMedicarePayment_By_Region_DRG  ratio_MP_Region_DRG  \\\n",
       "0                      4585.965000             1.038763   \n",
       "1                      4604.024615             1.080948   \n",
       "2                      4604.024615             0.967369   \n",
       "\n",
       "   ratio_MP_Region_DRG_bin MTotalPayment_By_City  ratio_MTP_City_DRG  \\\n",
       "0           (0.977, 1.093]           8316.949825            0.694634   \n",
       "1           (0.977, 1.093]           6812.131224            0.849598   \n",
       "2           (0.873, 0.977]           8881.752832            0.611923   \n",
       "\n",
       "   ratio_MTP_City_DRG_bin  \n",
       "0          (0.534, 0.774]  \n",
       "1          (0.774, 1.305]  \n",
       "2          (0.534, 0.774]  \n",
       "\n",
       "[3 rows x 42 columns]"
      ]
     },
     "execution_count": 10,
     "metadata": {},
     "output_type": "execute_result"
    }
   ],
   "source": [
    "df.head(3)"
   ]
  },
  {
   "cell_type": "markdown",
   "metadata": {},
   "source": [
    "## Feature Selection"
   ]
  },
  {
   "cell_type": "code",
   "execution_count": 11,
   "metadata": {},
   "outputs": [
    {
     "data": {
      "text/plain": [
       "(163065, 25)"
      ]
     },
     "execution_count": 11,
     "metadata": {},
     "output_type": "execute_result"
    }
   ],
   "source": [
    "numerics = ['int16', 'int32', 'int64', 'float16', 'float32', 'float64']\n",
    "newdf = df.select_dtypes(include=numerics)\n",
    "#newdf.drop('Provider_Zipcode')\n",
    "newdf = newdf.drop('Provider_Zipcode', axis=1)\n",
    "newdf.shape"
   ]
  },
  {
   "cell_type": "code",
   "execution_count": 14,
   "metadata": {},
   "outputs": [
    {
     "data": {
      "text/html": [
       "<div>\n",
       "<style scoped>\n",
       "    .dataframe tbody tr th:only-of-type {\n",
       "        vertical-align: middle;\n",
       "    }\n",
       "\n",
       "    .dataframe tbody tr th {\n",
       "        vertical-align: top;\n",
       "    }\n",
       "\n",
       "    .dataframe thead th {\n",
       "        text-align: right;\n",
       "    }\n",
       "</style>\n",
       "<table border=\"1\" class=\"dataframe\">\n",
       "  <thead>\n",
       "    <tr style=\"text-align: right;\">\n",
       "      <th></th>\n",
       "      <th>Total_Discharges</th>\n",
       "      <th>Average_Total_Payments</th>\n",
       "      <th>Average_Medicare_Payment</th>\n",
       "      <th>ratio_TP_DRG</th>\n",
       "      <th>ratio_TP_State_DRG</th>\n",
       "      <th>ratio_TP_Region_DRG</th>\n",
       "      <th>ratio_D_DRG</th>\n",
       "      <th>ratio_D_States_DRG</th>\n",
       "      <th>ratio_D_Region_DRG</th>\n",
       "      <th>ratio_MP_DRG</th>\n",
       "      <th>ratio_MP_State_DRG</th>\n",
       "      <th>ratio_MP_Region_DRG</th>\n",
       "      <th>ratio_MTP_City_DRG</th>\n",
       "    </tr>\n",
       "  </thead>\n",
       "  <tbody>\n",
       "    <tr>\n",
       "      <th>0</th>\n",
       "      <td>91</td>\n",
       "      <td>5777.24</td>\n",
       "      <td>4763.73</td>\n",
       "      <td>0.830000</td>\n",
       "      <td>1.005855</td>\n",
       "      <td>1.037810</td>\n",
       "      <td>2.921770</td>\n",
       "      <td>1.338235</td>\n",
       "      <td>1.338235</td>\n",
       "      <td>0.857428</td>\n",
       "      <td>1.038763</td>\n",
       "      <td>1.038763</td>\n",
       "      <td>0.694634</td>\n",
       "    </tr>\n",
       "    <tr>\n",
       "      <th>1</th>\n",
       "      <td>14</td>\n",
       "      <td>5787.57</td>\n",
       "      <td>4976.71</td>\n",
       "      <td>0.831484</td>\n",
       "      <td>1.007653</td>\n",
       "      <td>1.008540</td>\n",
       "      <td>0.449503</td>\n",
       "      <td>0.509804</td>\n",
       "      <td>0.509804</td>\n",
       "      <td>0.895762</td>\n",
       "      <td>1.080948</td>\n",
       "      <td>1.080948</td>\n",
       "      <td>0.849598</td>\n",
       "    </tr>\n",
       "    <tr>\n",
       "      <th>2</th>\n",
       "      <td>24</td>\n",
       "      <td>5434.95</td>\n",
       "      <td>4453.79</td>\n",
       "      <td>0.780824</td>\n",
       "      <td>0.946260</td>\n",
       "      <td>0.947092</td>\n",
       "      <td>0.770577</td>\n",
       "      <td>0.873950</td>\n",
       "      <td>0.873950</td>\n",
       "      <td>0.801642</td>\n",
       "      <td>0.967369</td>\n",
       "      <td>0.967369</td>\n",
       "      <td>0.611923</td>\n",
       "    </tr>\n",
       "    <tr>\n",
       "      <th>3</th>\n",
       "      <td>25</td>\n",
       "      <td>5417.56</td>\n",
       "      <td>4129.16</td>\n",
       "      <td>0.778325</td>\n",
       "      <td>0.943232</td>\n",
       "      <td>0.944062</td>\n",
       "      <td>0.802684</td>\n",
       "      <td>0.910364</td>\n",
       "      <td>0.910364</td>\n",
       "      <td>0.743211</td>\n",
       "      <td>0.896859</td>\n",
       "      <td>0.896859</td>\n",
       "      <td>0.593905</td>\n",
       "    </tr>\n",
       "    <tr>\n",
       "      <th>4</th>\n",
       "      <td>18</td>\n",
       "      <td>5658.33</td>\n",
       "      <td>4851.44</td>\n",
       "      <td>0.812916</td>\n",
       "      <td>0.985152</td>\n",
       "      <td>0.986018</td>\n",
       "      <td>0.577933</td>\n",
       "      <td>0.655462</td>\n",
       "      <td>0.655462</td>\n",
       "      <td>0.873215</td>\n",
       "      <td>1.053739</td>\n",
       "      <td>1.053739</td>\n",
       "      <td>0.726413</td>\n",
       "    </tr>\n",
       "  </tbody>\n",
       "</table>\n",
       "</div>"
      ],
      "text/plain": [
       "   Total_Discharges  Average_Total_Payments  Average_Medicare_Payment  \\\n",
       "0                91                 5777.24                   4763.73   \n",
       "1                14                 5787.57                   4976.71   \n",
       "2                24                 5434.95                   4453.79   \n",
       "3                25                 5417.56                   4129.16   \n",
       "4                18                 5658.33                   4851.44   \n",
       "\n",
       "   ratio_TP_DRG  ratio_TP_State_DRG  ratio_TP_Region_DRG  ratio_D_DRG  \\\n",
       "0      0.830000            1.005855             1.037810     2.921770   \n",
       "1      0.831484            1.007653             1.008540     0.449503   \n",
       "2      0.780824            0.946260             0.947092     0.770577   \n",
       "3      0.778325            0.943232             0.944062     0.802684   \n",
       "4      0.812916            0.985152             0.986018     0.577933   \n",
       "\n",
       "   ratio_D_States_DRG  ratio_D_Region_DRG  ratio_MP_DRG  ratio_MP_State_DRG  \\\n",
       "0            1.338235            1.338235      0.857428            1.038763   \n",
       "1            0.509804            0.509804      0.895762            1.080948   \n",
       "2            0.873950            0.873950      0.801642            0.967369   \n",
       "3            0.910364            0.910364      0.743211            0.896859   \n",
       "4            0.655462            0.655462      0.873215            1.053739   \n",
       "\n",
       "   ratio_MP_Region_DRG  ratio_MTP_City_DRG  \n",
       "0             1.038763            0.694634  \n",
       "1             1.080948            0.849598  \n",
       "2             0.967369            0.611923  \n",
       "3             0.896859            0.593905  \n",
       "4             1.053739            0.726413  "
      ]
     },
     "execution_count": 14,
     "metadata": {},
     "output_type": "execute_result"
    }
   ],
   "source": [
    "#X_train = newdf.copy()\n",
    "features=['Total_Discharges',\n",
    "       'Average_Total_Payments', 'Average_Medicare_Payment','ratio_TP_DRG',\n",
    "       'ratio_TP_State_DRG',\n",
    "       'ratio_TP_Region_DRG',\n",
    "       'ratio_D_DRG', \n",
    "       'ratio_D_States_DRG', \n",
    "       'ratio_D_Region_DRG',  'ratio_MP_DRG',\n",
    "        'ratio_MP_State_DRG',\n",
    "        'ratio_MP_Region_DRG',\n",
    "        'ratio_MTP_City_DRG']\n",
    "X_train = df[features]\n",
    "#X_train = X_train[features]\n",
    "X_train.head()"
   ]
  },
  {
   "cell_type": "code",
   "execution_count": 15,
   "metadata": {},
   "outputs": [
    {
     "data": {
      "text/plain": [
       "<AxesSubplot:>"
      ]
     },
     "execution_count": 15,
     "metadata": {},
     "output_type": "execute_result"
    },
    {
     "data": {
      "image/png": "[encoded data removed]",
      "text/plain": [
       "<Figure size 1152x720 with 2 Axes>"
      ]
     },
     "metadata": {
      "needs_background": "light"
     },
     "output_type": "display_data"
    }
   ],
   "source": [
    "correlation = X_train.corr()\n",
    "f, ax = plt.subplots(figsize=(16, 10))\n",
    "mask = np.triu(np.ones_like(correlation, dtype=bool)) #mask for upper triangle\n",
    "cmap = sns.diverging_palette(220, 10, as_cmap=True)\n",
    "sns.heatmap(correlation, mask = mask,vmin=-1, vmax=1,\n",
    "            cmap = 'BrBG',\n",
    "            #annot=True\n",
    "           )"
   ]
  },
  {
   "cell_type": "markdown",
   "metadata": {},
   "source": [
    "## Models - HBOS in the PyOD module"
   ]
  },
  {
   "cell_type": "markdown",
   "metadata": {},
   "source": [
    "### Overview\n",
    "There are 3 types of unsupervised anomaly detection approaches, including proximity-based, distribution-based, or ensemble-based methods. Distribution-based algorithms identify objects in low probability regions as anomalous. The most important advantage of this method is shorter computation time compared to the proximity-based or ensemble-based methods. \n",
    "\n",
    "One example using distribution-based algorithms is histogram-based outlier detection (HBOS). It scores models univariate feature densities using histograms. In other words, it calculates an outlier score by creating a univariate histogram for every single feature of the dataset and assumes that features are independent. The total amount of all scores measure its outlier-ness.\n",
    "\n",
    "I have experimented with a range of values for the hyperparameters: \n",
    "* Model 1: {𝑛_𝑏𝑖𝑛𝑠: 50}\n",
    "* Model 2: {𝑛_𝑏𝑖𝑛𝑠: 10 bins (5, 10, 15, 20, 25, 30, 50, 60, 75, 100)} with 4 aggregation methods. \n"
   ]
  },
  {
   "cell_type": "markdown",
   "metadata": {},
   "source": [
    "### Modeling"
   ]
  },
  {
   "cell_type": "markdown",
   "metadata": {},
   "source": [
    "#### Model development\n",
    "The first model will use 50 n_bins and the default comtanimation rate to construct model."
   ]
  },
  {
   "cell_type": "code",
   "execution_count": 122,
   "metadata": {},
   "outputs": [
    {
     "name": "stdout",
     "output_type": "stream",
     "text": [
      "The threshold for the default comtanimation rate: 17.088170434351536\n",
      "The training data: {0: 146758, 1: 16307}\n"
     ]
    }
   ],
   "source": [
    "n_bins = 50 \n",
    "hbos = HBOS(n_bins=n_bins) #using the default comtanimation rate\n",
    "hbos.fit(X_train)\n",
    "\n",
    "# Training data\n",
    "y_train_scores = hbos.decision_function(X_train)\n",
    "y_train_pred = hbos.predict(X_train)\n",
    "\n",
    "# Threshold for the defined comtanimation rate\n",
    "print(\"The threshold for the default comtanimation rate:\" , hbos.threshold_)\n",
    "\n",
    "def count_stat(vector):\n",
    "    # Because it is '0' and '1', we can run a count statistic. \n",
    "    unique, counts = np.unique(vector, return_counts=True)\n",
    "    return dict(zip(unique, counts))\n",
    "\n",
    "print(\"The training data:\", count_stat(y_train_pred))"
   ]
  },
  {
   "cell_type": "markdown",
   "metadata": {},
   "source": [
    "After declaring and fitting the model, I generated the outlier scores for the training data. It also shows the threshold at the assigned contamination rate. Any outlier score higher than the threshold is considered an outlier."
   ]
  },
  {
   "cell_type": "markdown",
   "metadata": {},
   "source": [
    "#### Threshold determination"
   ]
  },
  {
   "cell_type": "code",
   "execution_count": 124,
   "metadata": {},
   "outputs": [
    {
     "data": {
      "image/png": "[encoded data removed]",
      "text/plain": [
       "<Figure size 432x288 with 1 Axes>"
      ]
     },
     "metadata": {
      "needs_background": "light"
     },
     "output_type": "display_data"
    }
   ],
   "source": [
    "#Determine a reasonable threshold\n",
    "import matplotlib.pyplot as plt\n",
    "plt.hist(y_train_scores, bins='auto')  # arguments are passed to np.histogram\n",
    "plt.title(\"Histogram with 'auto' bins\")\n",
    "plt.xlabel('HBOS')\n",
    "plt.axvline(x = 17.08, color = 'r', label = 'thredhold')\n",
    "plt.show()"
   ]
  },
  {
   "cell_type": "markdown",
   "metadata": {},
   "source": [
    "The above chart displays the histogram of the score. We can see that it has a long tail on the right side. Scores above 7.27 are far from the central part of the distribution."
   ]
  },
  {
   "cell_type": "markdown",
   "metadata": {},
   "source": [
    "#### Descriptive statistics of the normal and abnormal groups"
   ]
  },
  {
   "cell_type": "code",
   "execution_count": 125,
   "metadata": {},
   "outputs": [
    {
     "data": {
      "text/html": [
       "<div>\n",
       "<style scoped>\n",
       "    .dataframe tbody tr th:only-of-type {\n",
       "        vertical-align: middle;\n",
       "    }\n",
       "\n",
       "    .dataframe tbody tr th {\n",
       "        vertical-align: top;\n",
       "    }\n",
       "\n",
       "    .dataframe thead th {\n",
       "        text-align: right;\n",
       "    }\n",
       "</style>\n",
       "<table border=\"1\" class=\"dataframe\">\n",
       "  <thead>\n",
       "    <tr style=\"text-align: right;\">\n",
       "      <th></th>\n",
       "      <th>Group</th>\n",
       "      <th>Count</th>\n",
       "      <th>Count %</th>\n",
       "      <th>Total_Discharges</th>\n",
       "      <th>Average_Total_Payments</th>\n",
       "      <th>Average_Medicare_Payment</th>\n",
       "      <th>ratio_TP_DRG</th>\n",
       "      <th>ratio_TP_State_DRG</th>\n",
       "      <th>ratio_TP_Region_DRG</th>\n",
       "      <th>ratio_D_DRG</th>\n",
       "      <th>ratio_D_States_DRG</th>\n",
       "      <th>ratio_D_Region_DRG</th>\n",
       "      <th>ratio_MP_DRG</th>\n",
       "      <th>ratio_MP_State_DRG</th>\n",
       "      <th>ratio_MP_Region_DRG</th>\n",
       "      <th>ratio_MTP_City_DRG</th>\n",
       "      <th>Anomaly_Score</th>\n",
       "    </tr>\n",
       "  </thead>\n",
       "  <tbody>\n",
       "    <tr>\n",
       "      <th>0</th>\n",
       "      <td>Normal</td>\n",
       "      <td>146758</td>\n",
       "      <td>89.999693</td>\n",
       "      <td>41.13</td>\n",
       "      <td>9081.81</td>\n",
       "      <td>7903.01</td>\n",
       "      <td>0.95</td>\n",
       "      <td>0.96</td>\n",
       "      <td>0.97</td>\n",
       "      <td>0.96</td>\n",
       "      <td>0.97</td>\n",
       "      <td>0.97</td>\n",
       "      <td>0.94</td>\n",
       "      <td>0.96</td>\n",
       "      <td>0.96</td>\n",
       "      <td>0.97</td>\n",
       "      <td>6.78</td>\n",
       "    </tr>\n",
       "    <tr>\n",
       "      <th>1</th>\n",
       "      <td>Outlier</td>\n",
       "      <td>16307</td>\n",
       "      <td>10.000307</td>\n",
       "      <td>57.55</td>\n",
       "      <td>15338.25</td>\n",
       "      <td>13817.68</td>\n",
       "      <td>1.45</td>\n",
       "      <td>1.36</td>\n",
       "      <td>1.29</td>\n",
       "      <td>1.33</td>\n",
       "      <td>1.26</td>\n",
       "      <td>1.26</td>\n",
       "      <td>1.50</td>\n",
       "      <td>1.32</td>\n",
       "      <td>1.32</td>\n",
       "      <td>1.27</td>\n",
       "      <td>22.28</td>\n",
       "    </tr>\n",
       "  </tbody>\n",
       "</table>\n",
       "</div>"
      ],
      "text/plain": [
       "     Group   Count    Count %  Total_Discharges  Average_Total_Payments  \\\n",
       "0   Normal  146758  89.999693             41.13                 9081.81   \n",
       "1  Outlier   16307  10.000307             57.55                15338.25   \n",
       "\n",
       "   Average_Medicare_Payment  ratio_TP_DRG  ratio_TP_State_DRG  \\\n",
       "0                   7903.01          0.95                0.96   \n",
       "1                  13817.68          1.45                1.36   \n",
       "\n",
       "   ratio_TP_Region_DRG  ratio_D_DRG  ratio_D_States_DRG  ratio_D_Region_DRG  \\\n",
       "0                 0.97         0.96                0.97                0.97   \n",
       "1                 1.29         1.33                1.26                1.26   \n",
       "\n",
       "   ratio_MP_DRG  ratio_MP_State_DRG  ratio_MP_Region_DRG  ratio_MTP_City_DRG  \\\n",
       "0          0.94                0.96                 0.96                0.97   \n",
       "1          1.50                1.32                 1.32                1.27   \n",
       "\n",
       "   Anomaly_Score  \n",
       "0           6.78  \n",
       "1          22.28  "
      ]
     },
     "execution_count": 125,
     "metadata": {},
     "output_type": "execute_result"
    }
   ],
   "source": [
    "threshold = hbos.threshold_ # Or other value from the above histogram\n",
    "\n",
    "# Let's see how many '0's and '1's.\n",
    "X_train = pd.DataFrame(X_train)\n",
    "X_train['Anomaly_Score'] = y_train_scores\n",
    "X_train['Group'] = np.where(X_train['Anomaly_Score']< threshold, 'Normal', 'Outlier')\n",
    "\n",
    "# Now let's show the summary statistics:\n",
    "cnt = X_train.groupby('Group')['Anomaly_Score'].count().reset_index().rename(columns={'Anomaly_Score':'Count'})\n",
    "cnt['Count %'] = (cnt['Count'] / cnt['Count'].sum()) * 100 # The count and count %\n",
    "stat = X_train.groupby('Group').mean().round(2).reset_index() # The avg.\n",
    "stat = cnt.merge(stat, left_on='Group',right_on='Group') # Put the count and the avg. together\n",
    "stat\n"
   ]
  },
  {
   "cell_type": "markdown",
   "metadata": {},
   "source": [
    "The above table shows descriptive statistics of the features between the normal and abnormal groups. It is helpful to communicate the soundness of the model. The table shows the count and count percentage of the normal and outlier groups. \n",
    "* The size of the outlier group: The outlier group is about 10% at the threshold for the defined comtanimation rate. \n",
    "* The average anomaly score: The average HBOS score of the outlier group is far higher than that of the normal group (22.28 > 6.78). This evidence just verifies the data in the outlier group are outliers. \n",
    "* The feature statistics in each group: The table shows the outlier group has larger values for each featres than those of the normal group. Therefore the feature statistics proves effectiveness of the model because the suspect observations who commit abuse or fraud will have higher amount than normal groups. "
   ]
  },
  {
   "cell_type": "code",
   "execution_count": 180,
   "metadata": {},
   "outputs": [
    {
     "data": {
      "text/plain": [
       "<seaborn.axisgrid.PairGrid at 0x7fe855ca8790>"
      ]
     },
     "execution_count": 180,
     "metadata": {},
     "output_type": "execute_result"
    },
    {
     "data": {
      "image/png": "[encoded data removed]",
      "text/plain": [
       "<Figure size 612.125x540 with 12 Axes>"
      ]
     },
     "metadata": {
      "needs_background": "light"
     },
     "output_type": "display_data"
    }
   ],
   "source": [
    "# plot the relationshiop between two festures under two groups\n",
    "sns.pairplot(X_train.iloc[:,[1,2,3,11]], hue = 'Group', palette='muted') # only show 3 festures for limited computional resources"
   ]
  },
  {
   "cell_type": "markdown",
   "metadata": {},
   "source": [
    "The chart displays four dimensions of data: taverage total payment, Anomaly Score, the size of Anomaly Score, and the color of groups. We can see that two groups seperate by anomaly Score at 7.27. The outlier group clearly has some large amount of payment. "
   ]
  },
  {
   "cell_type": "markdown",
   "metadata": {},
   "source": [
    "Summary"
   ]
  },
  {
   "cell_type": "markdown",
   "metadata": {},
   "source": [
    "The business insight:\n",
    "From the summary statistics, Average_Total_Payments, Average_Medicare_Payment, ratio_TP_DRG, and ratio_MP_State_DRG in the outliers is 69%, 75%, 53%, and 60% higher than those in the normals. Surprisingly, Total_Discharges is 89% lower for outliers. This may indicate that hospitals may be likely to charge a high amount with small number of times, which is assocated to unbundling codes. It is possible that they want to gain a large fiancial rewards. Once they seccessfully get, they could receive a considerable amount of income. Medicare Payment also is related to outlier group because a clear difference between two groups. It is possible that hospitals may commit abuse or fraud from the third parties. "
   ]
  },
  {
   "cell_type": "markdown",
   "metadata": {},
   "source": [
    "### Modeling - Tuning Hyperparameters with aggregation\n",
    "The second model will improve Model Stability by Aggregating Multiple Models. Since HBOS is highly related to the bin width. Therefore, I will build 10 HBOS models with different range of bins (histogram widths) to obtain multiple scores then aggregate the scores. The aggregation can use Average, Maximum of Maximum (MOM), Average of Maximum (AOM), and Maximum of Average (MOA). This strategy could help to prevent the overfitting issue and improve model's accuracy. "
   ]
  },
  {
   "cell_type": "markdown",
   "metadata": {},
   "source": [
    "#### Average"
   ]
  },
  {
   "cell_type": "code",
   "execution_count": 126,
   "metadata": {},
   "outputs": [],
   "source": [
    "from pyod.models.combination import aom, moa, average, maximization\n",
    "from pyod.utils.utility import standardizer\n",
    "from pyod.models.hbos import HBOS"
   ]
  },
  {
   "cell_type": "code",
   "execution_count": 127,
   "metadata": {},
   "outputs": [],
   "source": [
    "X_train = X_train.iloc[:,0:13] # select X_train columns\n",
    "#X_train.dtypes"
   ]
  },
  {
   "cell_type": "markdown",
   "metadata": {},
   "source": [
    "Model development"
   ]
  },
  {
   "cell_type": "code",
   "execution_count": 135,
   "metadata": {},
   "outputs": [
    {
     "name": "stdout",
     "output_type": "stream",
     "text": [
      "The threshold with 5 bins for the default comtanimation rate: 27.617963525849202\n",
      "The threshold with 10 bins for the default comtanimation rate: 24.56940981184607\n",
      "The threshold with 15 bins for the default comtanimation rate: 23.453890633166687\n",
      "The threshold with 20 bins for the default comtanimation rate: 22.682427941024876\n",
      "The threshold with 25 bins for the default comtanimation rate: 22.534445929480356\n",
      "The threshold with 30 bins for the default comtanimation rate: 22.471293225060105\n",
      "The threshold with 50 bins for the default comtanimation rate: 21.96834777687233\n",
      "The threshold with 60 bins for the default comtanimation rate: 21.900426437300666\n",
      "The threshold with 75 bins for the default comtanimation rate: 21.84692151471733\n",
      "The threshold with 100 bins for the default comtanimation rate: 21.784785765332067\n"
     ]
    }
   ],
   "source": [
    "# Standardize data\n",
    "X_train_norm = standardizer(X_train)\n",
    "\n",
    "# Test a range of binning\n",
    "k_list = [5, 10, 15, 20, 25, 30, 50, 60, 75, 100]\n",
    "n_clf = len(k_list)\n",
    "# Just prepare data frames so we can store the model results\n",
    "train_scores = np.zeros([X_train.shape[0], n_clf])\n",
    "#test_scores = np.zeros([X_test.shape[0], n_clf])\n",
    "\n",
    "# Modeling\n",
    "for i in range(n_clf):\n",
    "    k = k_list[i]\n",
    "    hbos = HBOS(n_bins=k)\n",
    "    hbos.fit(X_train_norm)\n",
    "    # Store the results in each column:\n",
    "    train_scores[:, i] = hbos.decision_function(X_train_norm)\n",
    "    #test_scores[:, i] = hbos.decision_function(X_test_norm)\n",
    "    print(\"The threshold with\",k,\"bins for the default comtanimation rate:\" , hbos.threshold_)\n",
    "# Decision scores have to be normalized before combination\n",
    "train_scores_norm = standardizer(train_scores)"
   ]
  },
  {
   "cell_type": "markdown",
   "metadata": {},
   "source": [
    "Threshold determination"
   ]
  },
  {
   "cell_type": "code",
   "execution_count": 149,
   "metadata": {},
   "outputs": [
    {
     "data": {
      "image/png": "[encoded data removed]",
      "text/plain": [
       "<Figure size 432x288 with 1 Axes>"
      ]
     },
     "metadata": {
      "needs_background": "light"
     },
     "output_type": "display_data"
    }
   ],
   "source": [
    "# Combination by average\n",
    "# The test_scores_norm is 500 x 10. The \"average\" function will take the average of the 10 columns. The result \"y_by_average\" is a single column: \n",
    "y_train_by_average = average(train_scores_norm)\n",
    "#y_test_by_average = average(test_scores_norm)\n",
    "import matplotlib.pyplot as plt\n",
    "plt.hist(y_train_by_average, bins='auto') # arguments are passed to np.histogram\n",
    "plt.title(\"Combination by average\")\n",
    "plt.axvline(x = 1.35, color = 'b', label = 'thredhold')\n",
    "plt.show()"
   ]
  },
  {
   "cell_type": "markdown",
   "metadata": {},
   "source": [
    "The above chart displays the histogram of the score. We can see that it has a long tail on the right side. The histogram suggests a threshold of 1.41. Scores above 1.41 are far from the central part of the distribution."
   ]
  },
  {
   "cell_type": "markdown",
   "metadata": {},
   "source": [
    "Descriptive statistics of the normal and abnormal groups"
   ]
  },
  {
   "cell_type": "code",
   "execution_count": 150,
   "metadata": {},
   "outputs": [
    {
     "data": {
      "text/html": [
       "<div>\n",
       "<style scoped>\n",
       "    .dataframe tbody tr th:only-of-type {\n",
       "        vertical-align: middle;\n",
       "    }\n",
       "\n",
       "    .dataframe tbody tr th {\n",
       "        vertical-align: top;\n",
       "    }\n",
       "\n",
       "    .dataframe thead th {\n",
       "        text-align: right;\n",
       "    }\n",
       "</style>\n",
       "<table border=\"1\" class=\"dataframe\">\n",
       "  <thead>\n",
       "    <tr style=\"text-align: right;\">\n",
       "      <th></th>\n",
       "      <th>Group</th>\n",
       "      <th>Count</th>\n",
       "      <th>Count %</th>\n",
       "      <th>Total_Discharges</th>\n",
       "      <th>Average_Total_Payments</th>\n",
       "      <th>Average_Medicare_Payment</th>\n",
       "      <th>ratio_TP_DRG</th>\n",
       "      <th>ratio_TP_State_DRG</th>\n",
       "      <th>ratio_TP_Region_DRG</th>\n",
       "      <th>ratio_D_DRG</th>\n",
       "      <th>ratio_D_States_DRG</th>\n",
       "      <th>ratio_D_Region_DRG</th>\n",
       "      <th>ratio_MP_DRG</th>\n",
       "      <th>ratio_MP_State_DRG</th>\n",
       "      <th>ratio_MP_Region_DRG</th>\n",
       "      <th>ratio_MTP_City_DRG</th>\n",
       "      <th>Anomaly_Score</th>\n",
       "    </tr>\n",
       "  </thead>\n",
       "  <tbody>\n",
       "    <tr>\n",
       "      <th>0</th>\n",
       "      <td>Normal</td>\n",
       "      <td>146759</td>\n",
       "      <td>90.000307</td>\n",
       "      <td>39.95</td>\n",
       "      <td>8577.56</td>\n",
       "      <td>7426.78</td>\n",
       "      <td>0.95</td>\n",
       "      <td>0.96</td>\n",
       "      <td>0.97</td>\n",
       "      <td>0.95</td>\n",
       "      <td>0.96</td>\n",
       "      <td>0.96</td>\n",
       "      <td>0.95</td>\n",
       "      <td>0.97</td>\n",
       "      <td>0.97</td>\n",
       "      <td>0.92</td>\n",
       "      <td>-0.23</td>\n",
       "    </tr>\n",
       "    <tr>\n",
       "      <th>1</th>\n",
       "      <td>Outlier</td>\n",
       "      <td>16306</td>\n",
       "      <td>9.999693</td>\n",
       "      <td>68.23</td>\n",
       "      <td>19877.08</td>\n",
       "      <td>18104.21</td>\n",
       "      <td>1.41</td>\n",
       "      <td>1.33</td>\n",
       "      <td>1.27</td>\n",
       "      <td>1.48</td>\n",
       "      <td>1.37</td>\n",
       "      <td>1.37</td>\n",
       "      <td>1.46</td>\n",
       "      <td>1.29</td>\n",
       "      <td>1.29</td>\n",
       "      <td>1.69</td>\n",
       "      <td>2.10</td>\n",
       "    </tr>\n",
       "  </tbody>\n",
       "</table>\n",
       "</div>"
      ],
      "text/plain": [
       "     Group   Count    Count %  Total_Discharges  Average_Total_Payments  \\\n",
       "0   Normal  146759  90.000307             39.95                 8577.56   \n",
       "1  Outlier   16306   9.999693             68.23                19877.08   \n",
       "\n",
       "   Average_Medicare_Payment  ratio_TP_DRG  ratio_TP_State_DRG  \\\n",
       "0                   7426.78          0.95                0.96   \n",
       "1                  18104.21          1.41                1.33   \n",
       "\n",
       "   ratio_TP_Region_DRG  ratio_D_DRG  ratio_D_States_DRG  ratio_D_Region_DRG  \\\n",
       "0                 0.97         0.95                0.96                0.96   \n",
       "1                 1.27         1.48                1.37                1.37   \n",
       "\n",
       "   ratio_MP_DRG  ratio_MP_State_DRG  ratio_MP_Region_DRG  ratio_MTP_City_DRG  \\\n",
       "0          0.95                0.97                 0.97                0.92   \n",
       "1          1.46                1.29                 1.29                1.69   \n",
       "\n",
       "   Anomaly_Score  \n",
       "0          -0.23  \n",
       "1           2.10  "
      ]
     },
     "execution_count": 150,
     "metadata": {},
     "output_type": "execute_result"
    }
   ],
   "source": [
    "def descriptive_stat_threshold(df,pred_score, threshold):\n",
    "    # Let's see how many '0's and '1's.\n",
    "    df = pd.DataFrame(df)\n",
    "    df['Anomaly_Score'] = pred_score\n",
    "    df['Group'] = np.where(df['Anomaly_Score']< threshold, 'Normal', 'Outlier')\n",
    "\n",
    "    # Now let's show the summary statistics:\n",
    "    cnt = df.groupby('Group')['Anomaly_Score'].count().reset_index().rename(columns={'Anomaly_Score':'Count'})\n",
    "    cnt['Count %'] = (cnt['Count'] / cnt['Count'].sum()) * 100 # The count and count %\n",
    "    stat = df.groupby('Group').mean().round(2).reset_index() # The avg.\n",
    "    stat = cnt.merge(stat, left_on='Group',right_on='Group') # Put the count and the avg. together\n",
    "    return (stat)\n",
    "\n",
    "descriptive_stat_threshold(X_train,y_train_by_average, 1.35)"
   ]
  },
  {
   "cell_type": "markdown",
   "metadata": {},
   "source": [
    "The descriptive statistics with this threshold are shown in the above table. It is helpful to communicate the soundness of the model. It identifies 16386 data points to be the outliers. Although the size of the two groups in the two models is similar, the descriptive statistics have large differences. \n",
    "* The size of the outlier group: The outlier group is about 10% at the threshold for the defined comtanimation rate. \n",
    "* The average anomaly score: The average HBOS score of the outlier group is far higher than that of the normal group (2.11 > -0.24). This evidence just verifies the data in the outlier group are outliers. Since the second model uses standardized data, the ratio of difference would be helpful to interpret. \n",
    "* The feature statistics in each group: The table shows the outlier group has larger values for each feature than those of the normal group. Average_Total_Payments and Average_Medicare_Payment in the outliers are 40% and 69% higher than those in the normals. Therefore the feature statistics prove the effectiveness of the model because the suspect observations who commit abuse or fraud will have a higher amount than normal groups. "
   ]
  },
  {
   "cell_type": "markdown",
   "metadata": {},
   "source": [
    "Summary"
   ]
  },
  {
   "cell_type": "markdown",
   "metadata": {},
   "source": [
    "The business insight:\n",
    "Compared to the first group, although there are similar patterns, the result of summary statistics in the second one has obvious gaps. The second model could better separate the outliers from normal and has a higher prediction accuracy because of its less overfitting. \n",
    "From the summary statistics, Total_Discharges, Average_Total_Payments, Average_Medicare_Payment, ratio_D_DRG, ratio_MP_DRG, and ratio_MTP_City_DRG in the outliers is 88%, 124%, 135%, 66%, 52%, and 76% higher than those in the normals. Surprisingly, Total_Discharges in the second model is positive 89% higher for outliers. This may indicate that hospitals may be likely to charge a high amount (Average_Total_Payments and Average_Medicare_Payment) with a large number of discharges, which is associated with upcoding or unbundling codes. Lastly, the large difference in cities among different clinical diagnoses shows hospitals in different city bill each diagnosis. Any amount above the average reimbursement should be considered as outliers and needs to be further investigated. "
   ]
  },
  {
   "cell_type": "markdown",
   "metadata": {},
   "source": [
    "#### Average of Maximum (AOM)"
   ]
  },
  {
   "cell_type": "code",
   "execution_count": 154,
   "metadata": {},
   "outputs": [
    {
     "data": {
      "image/png": "[encoded data removed]",
      "text/plain": [
       "<Figure size 432x288 with 1 Axes>"
      ]
     },
     "metadata": {
      "needs_background": "light"
     },
     "output_type": "display_data"
    }
   ],
   "source": [
    "# Combination by aom\n",
    "# The test_scores_norm is 500 x 10. The \"aom\" function will take the average of the 10 columns. The result \"y_by_average\" is a single column: \n",
    "y_train_by_aom = aom(train_scores_norm)\n",
    "#y_test_by_average = aom(test_scores_norm)\n",
    "import matplotlib.pyplot as plt\n",
    "plt.hist(y_train_by_aom, bins='auto') # arguments are passed to np.histogram\n",
    "plt.title(\"Combination by average\")\n",
    "plt.axvline(x = 1.35, color = 'b', label = 'thredhold')\n",
    "plt.show()"
   ]
  },
  {
   "cell_type": "code",
   "execution_count": 159,
   "metadata": {},
   "outputs": [
    {
     "data": {
      "text/html": [
       "<div>\n",
       "<style scoped>\n",
       "    .dataframe tbody tr th:only-of-type {\n",
       "        vertical-align: middle;\n",
       "    }\n",
       "\n",
       "    .dataframe tbody tr th {\n",
       "        vertical-align: top;\n",
       "    }\n",
       "\n",
       "    .dataframe thead th {\n",
       "        text-align: right;\n",
       "    }\n",
       "</style>\n",
       "<table border=\"1\" class=\"dataframe\">\n",
       "  <thead>\n",
       "    <tr style=\"text-align: right;\">\n",
       "      <th></th>\n",
       "      <th>Group</th>\n",
       "      <th>Count</th>\n",
       "      <th>Count %</th>\n",
       "      <th>Total_Discharges</th>\n",
       "      <th>Average_Total_Payments</th>\n",
       "      <th>Average_Medicare_Payment</th>\n",
       "      <th>ratio_TP_DRG</th>\n",
       "      <th>ratio_TP_State_DRG</th>\n",
       "      <th>ratio_TP_Region_DRG</th>\n",
       "      <th>ratio_D_DRG</th>\n",
       "      <th>ratio_D_States_DRG</th>\n",
       "      <th>ratio_D_Region_DRG</th>\n",
       "      <th>ratio_MP_DRG</th>\n",
       "      <th>ratio_MP_State_DRG</th>\n",
       "      <th>ratio_MP_Region_DRG</th>\n",
       "      <th>ratio_MTP_City_DRG</th>\n",
       "      <th>Anomaly_Score</th>\n",
       "    </tr>\n",
       "  </thead>\n",
       "  <tbody>\n",
       "    <tr>\n",
       "      <th>0</th>\n",
       "      <td>Normal</td>\n",
       "      <td>145732</td>\n",
       "      <td>89.370496</td>\n",
       "      <td>39.69</td>\n",
       "      <td>8473.12</td>\n",
       "      <td>7327.90</td>\n",
       "      <td>0.95</td>\n",
       "      <td>0.96</td>\n",
       "      <td>0.97</td>\n",
       "      <td>0.94</td>\n",
       "      <td>0.96</td>\n",
       "      <td>0.96</td>\n",
       "      <td>0.95</td>\n",
       "      <td>0.97</td>\n",
       "      <td>0.97</td>\n",
       "      <td>0.91</td>\n",
       "      <td>-0.09</td>\n",
       "    </tr>\n",
       "    <tr>\n",
       "      <th>1</th>\n",
       "      <td>Outlier</td>\n",
       "      <td>17333</td>\n",
       "      <td>10.629504</td>\n",
       "      <td>68.74</td>\n",
       "      <td>20085.66</td>\n",
       "      <td>18302.91</td>\n",
       "      <td>1.39</td>\n",
       "      <td>1.31</td>\n",
       "      <td>1.24</td>\n",
       "      <td>1.49</td>\n",
       "      <td>1.38</td>\n",
       "      <td>1.38</td>\n",
       "      <td>1.43</td>\n",
       "      <td>1.26</td>\n",
       "      <td>1.26</td>\n",
       "      <td>1.72</td>\n",
       "      <td>2.26</td>\n",
       "    </tr>\n",
       "  </tbody>\n",
       "</table>\n",
       "</div>"
      ],
      "text/plain": [
       "     Group   Count    Count %  Total_Discharges  Average_Total_Payments  \\\n",
       "0   Normal  145732  89.370496             39.69                 8473.12   \n",
       "1  Outlier   17333  10.629504             68.74                20085.66   \n",
       "\n",
       "   Average_Medicare_Payment  ratio_TP_DRG  ratio_TP_State_DRG  \\\n",
       "0                   7327.90          0.95                0.96   \n",
       "1                  18302.91          1.39                1.31   \n",
       "\n",
       "   ratio_TP_Region_DRG  ratio_D_DRG  ratio_D_States_DRG  ratio_D_Region_DRG  \\\n",
       "0                 0.97         0.94                0.96                0.96   \n",
       "1                 1.24         1.49                1.38                1.38   \n",
       "\n",
       "   ratio_MP_DRG  ratio_MP_State_DRG  ratio_MP_Region_DRG  ratio_MTP_City_DRG  \\\n",
       "0          0.95                0.97                 0.97                0.91   \n",
       "1          1.43                1.26                 1.26                1.72   \n",
       "\n",
       "   Anomaly_Score  \n",
       "0          -0.09  \n",
       "1           2.26  "
      ]
     },
     "execution_count": 159,
     "metadata": {},
     "output_type": "execute_result"
    }
   ],
   "source": [
    "descriptive_stat_threshold(X_train,y_train_by_aom, 1.5)"
   ]
  },
  {
   "cell_type": "markdown",
   "metadata": {},
   "source": [
    "#### Maximum of Average (MOA)"
   ]
  },
  {
   "cell_type": "code",
   "execution_count": 160,
   "metadata": {},
   "outputs": [
    {
     "data": {
      "image/png": "[encoded data removed]",
      "text/plain": [
       "<Figure size 432x288 with 1 Axes>"
      ]
     },
     "metadata": {
      "needs_background": "light"
     },
     "output_type": "display_data"
    }
   ],
   "source": [
    "# Combination by average\n",
    "# The test_scores_norm is 500 x 10. The \"moa\" function will take the average of the 10 columns. The result \"y_by_average\" is a single column: \n",
    "y_train_by_moa = moa(train_scores_norm)\n",
    "#y_test_by_average = aom(test_scores_norm)\n",
    "import matplotlib.pyplot as plt\n",
    "plt.hist(y_train_by_moa, bins='auto') # arguments are passed to np.histogram\n",
    "plt.title(\"Combination by average\")\n",
    "plt.axvline(x = 1.5, color = 'b', label = 'thredhold')\n",
    "plt.show()"
   ]
  },
  {
   "cell_type": "code",
   "execution_count": 163,
   "metadata": {},
   "outputs": [
    {
     "data": {
      "text/html": [
       "<div>\n",
       "<style scoped>\n",
       "    .dataframe tbody tr th:only-of-type {\n",
       "        vertical-align: middle;\n",
       "    }\n",
       "\n",
       "    .dataframe tbody tr th {\n",
       "        vertical-align: top;\n",
       "    }\n",
       "\n",
       "    .dataframe thead th {\n",
       "        text-align: right;\n",
       "    }\n",
       "</style>\n",
       "<table border=\"1\" class=\"dataframe\">\n",
       "  <thead>\n",
       "    <tr style=\"text-align: right;\">\n",
       "      <th></th>\n",
       "      <th>Group</th>\n",
       "      <th>Count</th>\n",
       "      <th>Count %</th>\n",
       "      <th>Total_Discharges</th>\n",
       "      <th>Average_Total_Payments</th>\n",
       "      <th>Average_Medicare_Payment</th>\n",
       "      <th>ratio_TP_DRG</th>\n",
       "      <th>ratio_TP_State_DRG</th>\n",
       "      <th>ratio_TP_Region_DRG</th>\n",
       "      <th>ratio_D_DRG</th>\n",
       "      <th>ratio_D_States_DRG</th>\n",
       "      <th>ratio_D_Region_DRG</th>\n",
       "      <th>ratio_MP_DRG</th>\n",
       "      <th>ratio_MP_State_DRG</th>\n",
       "      <th>ratio_MP_Region_DRG</th>\n",
       "      <th>ratio_MTP_City_DRG</th>\n",
       "      <th>Anomaly_Score</th>\n",
       "    </tr>\n",
       "  </thead>\n",
       "  <tbody>\n",
       "    <tr>\n",
       "      <th>0</th>\n",
       "      <td>Normal</td>\n",
       "      <td>146588</td>\n",
       "      <td>89.89544</td>\n",
       "      <td>40.02</td>\n",
       "      <td>8422.29</td>\n",
       "      <td>7277.25</td>\n",
       "      <td>0.96</td>\n",
       "      <td>0.97</td>\n",
       "      <td>0.97</td>\n",
       "      <td>0.95</td>\n",
       "      <td>0.96</td>\n",
       "      <td>0.96</td>\n",
       "      <td>0.95</td>\n",
       "      <td>0.97</td>\n",
       "      <td>0.97</td>\n",
       "      <td>0.91</td>\n",
       "      <td>0.04</td>\n",
       "    </tr>\n",
       "    <tr>\n",
       "      <th>1</th>\n",
       "      <td>Outlier</td>\n",
       "      <td>16477</td>\n",
       "      <td>10.10456</td>\n",
       "      <td>67.32</td>\n",
       "      <td>21141.15</td>\n",
       "      <td>19323.67</td>\n",
       "      <td>1.39</td>\n",
       "      <td>1.31</td>\n",
       "      <td>1.24</td>\n",
       "      <td>1.47</td>\n",
       "      <td>1.37</td>\n",
       "      <td>1.37</td>\n",
       "      <td>1.43</td>\n",
       "      <td>1.26</td>\n",
       "      <td>1.26</td>\n",
       "      <td>1.81</td>\n",
       "      <td>2.49</td>\n",
       "    </tr>\n",
       "  </tbody>\n",
       "</table>\n",
       "</div>"
      ],
      "text/plain": [
       "     Group   Count   Count %  Total_Discharges  Average_Total_Payments  \\\n",
       "0   Normal  146588  89.89544             40.02                 8422.29   \n",
       "1  Outlier   16477  10.10456             67.32                21141.15   \n",
       "\n",
       "   Average_Medicare_Payment  ratio_TP_DRG  ratio_TP_State_DRG  \\\n",
       "0                   7277.25          0.96                0.97   \n",
       "1                  19323.67          1.39                1.31   \n",
       "\n",
       "   ratio_TP_Region_DRG  ratio_D_DRG  ratio_D_States_DRG  ratio_D_Region_DRG  \\\n",
       "0                 0.97         0.95                0.96                0.96   \n",
       "1                 1.24         1.47                1.37                1.37   \n",
       "\n",
       "   ratio_MP_DRG  ratio_MP_State_DRG  ratio_MP_Region_DRG  ratio_MTP_City_DRG  \\\n",
       "0          0.95                0.97                 0.97                0.91   \n",
       "1          1.43                1.26                 1.26                1.81   \n",
       "\n",
       "   Anomaly_Score  \n",
       "0           0.04  \n",
       "1           2.49  "
      ]
     },
     "execution_count": 163,
     "metadata": {},
     "output_type": "execute_result"
    }
   ],
   "source": [
    "descriptive_stat_threshold(X_train,y_train_by_moa, 1.7)"
   ]
  },
  {
   "cell_type": "markdown",
   "metadata": {},
   "source": [
    "#### Maximum of Maximum (MOM) "
   ]
  },
  {
   "cell_type": "code",
   "execution_count": 168,
   "metadata": {},
   "outputs": [
    {
     "data": {
      "image/png": "[encoded data removed]",
      "text/plain": [
       "<Figure size 432x288 with 1 Axes>"
      ]
     },
     "metadata": {
      "needs_background": "light"
     },
     "output_type": "display_data"
    }
   ],
   "source": [
    "# Combination by average\n",
    "# The test_scores_norm is 500 x 10. The \"moa\" function will take the average of the 10 columns. The result \"y_by_average\" is a single column: \n",
    "y_train_by_maximization = maximization(train_scores_norm)\n",
    "#y_test_by_average = aom(test_scores_norm)\n",
    "import matplotlib.pyplot as plt\n",
    "plt.hist(y_train_by_maximization, bins='auto') # arguments are passed to np.histogram\n",
    "plt.title(\"Combination by average\")\n",
    "plt.axvline(x = 1.9, color = 'b', label = 'thredhold')\n",
    "plt.show()"
   ]
  },
  {
   "cell_type": "code",
   "execution_count": 167,
   "metadata": {},
   "outputs": [
    {
     "data": {
      "text/html": [
       "<div>\n",
       "<style scoped>\n",
       "    .dataframe tbody tr th:only-of-type {\n",
       "        vertical-align: middle;\n",
       "    }\n",
       "\n",
       "    .dataframe tbody tr th {\n",
       "        vertical-align: top;\n",
       "    }\n",
       "\n",
       "    .dataframe thead th {\n",
       "        text-align: right;\n",
       "    }\n",
       "</style>\n",
       "<table border=\"1\" class=\"dataframe\">\n",
       "  <thead>\n",
       "    <tr style=\"text-align: right;\">\n",
       "      <th></th>\n",
       "      <th>Group</th>\n",
       "      <th>Count</th>\n",
       "      <th>Count %</th>\n",
       "      <th>Total_Discharges</th>\n",
       "      <th>Average_Total_Payments</th>\n",
       "      <th>Average_Medicare_Payment</th>\n",
       "      <th>ratio_TP_DRG</th>\n",
       "      <th>ratio_TP_State_DRG</th>\n",
       "      <th>ratio_TP_Region_DRG</th>\n",
       "      <th>ratio_D_DRG</th>\n",
       "      <th>ratio_D_States_DRG</th>\n",
       "      <th>ratio_D_Region_DRG</th>\n",
       "      <th>ratio_MP_DRG</th>\n",
       "      <th>ratio_MP_State_DRG</th>\n",
       "      <th>ratio_MP_Region_DRG</th>\n",
       "      <th>ratio_MTP_City_DRG</th>\n",
       "      <th>Anomaly_Score</th>\n",
       "    </tr>\n",
       "  </thead>\n",
       "  <tbody>\n",
       "    <tr>\n",
       "      <th>0</th>\n",
       "      <td>Normal</td>\n",
       "      <td>146094</td>\n",
       "      <td>89.592494</td>\n",
       "      <td>40.30</td>\n",
       "      <td>8262.61</td>\n",
       "      <td>7119.81</td>\n",
       "      <td>0.96</td>\n",
       "      <td>0.97</td>\n",
       "      <td>0.97</td>\n",
       "      <td>0.95</td>\n",
       "      <td>0.96</td>\n",
       "      <td>0.96</td>\n",
       "      <td>0.95</td>\n",
       "      <td>0.97</td>\n",
       "      <td>0.97</td>\n",
       "      <td>0.89</td>\n",
       "      <td>0.28</td>\n",
       "    </tr>\n",
       "    <tr>\n",
       "      <th>1</th>\n",
       "      <td>Outlier</td>\n",
       "      <td>16971</td>\n",
       "      <td>10.407506</td>\n",
       "      <td>64.12</td>\n",
       "      <td>22145.49</td>\n",
       "      <td>20328.34</td>\n",
       "      <td>1.37</td>\n",
       "      <td>1.28</td>\n",
       "      <td>1.22</td>\n",
       "      <td>1.42</td>\n",
       "      <td>1.33</td>\n",
       "      <td>1.33</td>\n",
       "      <td>1.41</td>\n",
       "      <td>1.24</td>\n",
       "      <td>1.24</td>\n",
       "      <td>1.94</td>\n",
       "      <td>2.87</td>\n",
       "    </tr>\n",
       "  </tbody>\n",
       "</table>\n",
       "</div>"
      ],
      "text/plain": [
       "     Group   Count    Count %  Total_Discharges  Average_Total_Payments  \\\n",
       "0   Normal  146094  89.592494             40.30                 8262.61   \n",
       "1  Outlier   16971  10.407506             64.12                22145.49   \n",
       "\n",
       "   Average_Medicare_Payment  ratio_TP_DRG  ratio_TP_State_DRG  \\\n",
       "0                   7119.81          0.96                0.97   \n",
       "1                  20328.34          1.37                1.28   \n",
       "\n",
       "   ratio_TP_Region_DRG  ratio_D_DRG  ratio_D_States_DRG  ratio_D_Region_DRG  \\\n",
       "0                 0.97         0.95                0.96                0.96   \n",
       "1                 1.22         1.42                1.33                1.33   \n",
       "\n",
       "   ratio_MP_DRG  ratio_MP_State_DRG  ratio_MP_Region_DRG  ratio_MTP_City_DRG  \\\n",
       "0          0.95                0.97                 0.97                0.89   \n",
       "1          1.41                1.24                 1.24                1.94   \n",
       "\n",
       "   Anomaly_Score  \n",
       "0           0.28  \n",
       "1           2.87  "
      ]
     },
     "execution_count": 167,
     "metadata": {},
     "output_type": "execute_result"
    }
   ],
   "source": [
    "descriptive_stat_threshold(X_train,y_train_by_maximization, 1.9)"
   ]
  },
  {
   "cell_type": "markdown",
   "metadata": {},
   "source": [
    "Since scores used standardization data, the difference in Anomaly Score is smaller than the raw data. The maximum of Maximum (MOM) and Maximum of Average (MOA)'s distributions of the Anomaly Score are different from the rest two. If keeping 10% as the cutoff, the difference in Anomaly Score is about 2.4 with MOM and MOA, and about 2.3 with the average and AOM. "
   ]
  }
 ],
 "metadata": {
  "kernelspec": {
   "display_name": "Python 3 (ipykernel)",
   "language": "python",
   "name": "python3"
  },
  "language_info": {
   "codemirror_mode": {
    "name": "ipython",
    "version": 3
   },
   "file_extension": ".py",
   "mimetype": "text/x-python",
   "name": "python",
   "nbconvert_exporter": "python",
   "pygments_lexer": "ipython3",
   "version": "3.9.7"
  },
  "toc": {
   "base_numbering": 1,
   "nav_menu": {},
   "number_sections": true,
   "sideBar": true,
   "skip_h1_title": true,
   "title_cell": "Table of Contents",
   "title_sidebar": "Contents",
   "toc_cell": true,
   "toc_position": {
    "height": "calc(100% - 180px)",
    "left": "10px",
    "top": "150px",
    "width": "276.662px"
   },
   "toc_section_display": true,
   "toc_window_display": true
  },
  "varInspector": {
   "cols": {
    "lenName": 16,
    "lenType": 16,
    "lenVar": 40
   },
   "kernels_config": {
    "python": {
     "delete_cmd_postfix": "",
     "delete_cmd_prefix": "del ",
     "library": "var_list.py",
     "varRefreshCmd": "print(var_dic_list())"
    },
    "r": {
     "delete_cmd_postfix": ") ",
     "delete_cmd_prefix": "rm(",
     "library": "var_list.r",
     "varRefreshCmd": "cat(var_dic_list()) "
    }
   },
   "types_to_exclude": [
    "module",
    "function",
    "builtin_function_or_method",
    "instance",
    "_Feature"
   ],
   "window_display": false
  }
 },
 "nbformat": 4,
 "nbformat_minor": 4
}
